{
  "nbformat": 4,
  "nbformat_minor": 0,
  "metadata": {
    "colab": {
      "name": "Cópia de 1_getting_started.ipynb",
      "provenance": [],
      "collapsed_sections": [],
      "include_colab_link": true
    },
    "kernelspec": {
      "name": "python3",
      "display_name": "Python 3"
    },
    "accelerator": "GPU"
  },
  "cells": [
    {
      "cell_type": "markdown",
      "metadata": {
        "id": "view-in-github",
        "colab_type": "text"
      },
      "source": [
        "<a href=\"https://colab.research.google.com/github/mariaelisagmt/CartPole/blob/main/A2C.ipynb\" target=\"_parent\"><img src=\"https://colab.research.google.com/assets/colab-badge.svg\" alt=\"Open In Colab\"/></a>"
      ]
    },
    {
      "cell_type": "markdown",
      "metadata": {
        "id": "hyyN-2qyK_T2"
      },
      "source": [
        "\n",
        "\n",
        "## Install Dependencies and Stable Baselines Using Pip\n",
        "\n",
        "List of full dependencies can be found in the [README](https://github.com/hill-a/stable-baselines).\n",
        "\n",
        "```\n",
        "sudo apt-get update && sudo apt-get install cmake libopenmpi-dev zlib1g-dev\n",
        "```\n",
        "\n",
        "\n",
        "```\n",
        "pip install stable-baselines[mpi]\n",
        "```"
      ]
    },
    {
      "cell_type": "code",
      "metadata": {
        "id": "gWskDE2c9WoN",
        "colab": {
          "base_uri": "https://localhost:8080/"
        },
        "outputId": "82d3eda1-b2fc-4dd1-c355-ae2fd2247283"
      },
      "source": [
        "# Stable Baselines only supports tensorflow 1.x for now\n",
        "%tensorflow_version 1.x\n",
        "!apt-get install ffmpeg freeglut3-dev xvfb  # For visualization\n",
        "!pip install stable-baselines[mpi]==2.10.0"
      ],
      "execution_count": 4,
      "outputs": [
        {
          "output_type": "stream",
          "text": [
            "Reading package lists... Done\n",
            "Building dependency tree       \n",
            "Reading state information... Done\n",
            "freeglut3-dev is already the newest version (2.8.1-3).\n",
            "ffmpeg is already the newest version (7:3.4.8-0ubuntu0.2).\n",
            "xvfb is already the newest version (2:1.19.6-1ubuntu4.8).\n",
            "0 upgraded, 0 newly installed, 0 to remove and 10 not upgraded.\n",
            "Requirement already satisfied: stable-baselines[mpi]==2.10.0 in /usr/local/lib/python3.6/dist-packages (2.10.0)\n",
            "Requirement already satisfied: joblib in /usr/local/lib/python3.6/dist-packages (from stable-baselines[mpi]==2.10.0) (1.0.0)\n",
            "Requirement already satisfied: pandas in /usr/local/lib/python3.6/dist-packages (from stable-baselines[mpi]==2.10.0) (1.1.5)\n",
            "Requirement already satisfied: numpy in /usr/local/lib/python3.6/dist-packages (from stable-baselines[mpi]==2.10.0) (1.19.5)\n",
            "Requirement already satisfied: cloudpickle>=0.5.5 in /usr/local/lib/python3.6/dist-packages (from stable-baselines[mpi]==2.10.0) (1.3.0)\n",
            "Requirement already satisfied: scipy in /usr/local/lib/python3.6/dist-packages (from stable-baselines[mpi]==2.10.0) (1.4.1)\n",
            "Requirement already satisfied: matplotlib in /usr/local/lib/python3.6/dist-packages (from stable-baselines[mpi]==2.10.0) (3.2.2)\n",
            "Requirement already satisfied: gym[atari,classic_control]>=0.11 in /usr/local/lib/python3.6/dist-packages (from stable-baselines[mpi]==2.10.0) (0.17.3)\n",
            "Requirement already satisfied: opencv-python in /usr/local/lib/python3.6/dist-packages (from stable-baselines[mpi]==2.10.0) (4.1.2.30)\n",
            "Requirement already satisfied: mpi4py; extra == \"mpi\" in /tensorflow-1.15.2/python3.6 (from stable-baselines[mpi]==2.10.0) (3.0.3)\n",
            "Requirement already satisfied: pytz>=2017.2 in /usr/local/lib/python3.6/dist-packages (from pandas->stable-baselines[mpi]==2.10.0) (2018.9)\n",
            "Requirement already satisfied: python-dateutil>=2.7.3 in /usr/local/lib/python3.6/dist-packages (from pandas->stable-baselines[mpi]==2.10.0) (2.8.1)\n",
            "Requirement already satisfied: cycler>=0.10 in /usr/local/lib/python3.6/dist-packages (from matplotlib->stable-baselines[mpi]==2.10.0) (0.10.0)\n",
            "Requirement already satisfied: kiwisolver>=1.0.1 in /usr/local/lib/python3.6/dist-packages (from matplotlib->stable-baselines[mpi]==2.10.0) (1.3.1)\n",
            "Requirement already satisfied: pyparsing!=2.0.4,!=2.1.2,!=2.1.6,>=2.0.1 in /usr/local/lib/python3.6/dist-packages (from matplotlib->stable-baselines[mpi]==2.10.0) (2.4.7)\n",
            "Requirement already satisfied: pyglet<=1.5.0,>=1.4.0 in /usr/local/lib/python3.6/dist-packages (from gym[atari,classic_control]>=0.11->stable-baselines[mpi]==2.10.0) (1.5.0)\n",
            "Requirement already satisfied: Pillow; extra == \"atari\" in /usr/local/lib/python3.6/dist-packages (from gym[atari,classic_control]>=0.11->stable-baselines[mpi]==2.10.0) (7.0.0)\n",
            "Requirement already satisfied: atari-py~=0.2.0; extra == \"atari\" in /usr/local/lib/python3.6/dist-packages (from gym[atari,classic_control]>=0.11->stable-baselines[mpi]==2.10.0) (0.2.6)\n",
            "Requirement already satisfied: six>=1.5 in /usr/local/lib/python3.6/dist-packages (from python-dateutil>=2.7.3->pandas->stable-baselines[mpi]==2.10.0) (1.15.0)\n",
            "Requirement already satisfied: future in /usr/local/lib/python3.6/dist-packages (from pyglet<=1.5.0,>=1.4.0->gym[atari,classic_control]>=0.11->stable-baselines[mpi]==2.10.0) (0.16.0)\n"
          ],
          "name": "stdout"
        }
      ]
    },
    {
      "cell_type": "markdown",
      "metadata": {
        "id": "FtY8FhliLsGm"
      },
      "source": [
        "## Imports"
      ]
    },
    {
      "cell_type": "markdown",
      "metadata": {
        "id": "gcX8hEcaUpR0"
      },
      "source": [
        "Stable-Baselines works on environments that follow the [gym interface](https://stable-baselines.readthedocs.io/en/master/guide/custom_env.html).\n",
        "You can find a list of available environment [here](https://gym.openai.com/envs/#classic_control).\n",
        "\n",
        "It is also recommended to check the [source code](https://github.com/openai/gym) to learn more about the observation and action space of each env, as gym does not have a proper documentation.\n",
        "Not all algorithms can work with all action spaces, you can find more in this [recap table](https://stable-baselines.readthedocs.io/en/master/guide/algos.html)"
      ]
    },
    {
      "cell_type": "code",
      "metadata": {
        "id": "BIedd7Pz9sOs"
      },
      "source": [
        "import gym\n",
        "import numpy as np"
      ],
      "execution_count": 5,
      "outputs": []
    },
    {
      "cell_type": "markdown",
      "metadata": {
        "id": "Ae32CtgzTG3R"
      },
      "source": [
        "The first thing you need to import is the RL model, check the documentation to know what you can use on which problem"
      ]
    },
    {
      "cell_type": "code",
      "metadata": {
        "id": "R7tKaBFrTR0a"
      },
      "source": [
        "from stable_baselines import PPO2"
      ],
      "execution_count": 6,
      "outputs": []
    },
    {
      "cell_type": "markdown",
      "metadata": {
        "id": "-0_8OQbOTTNT"
      },
      "source": [
        "The next thing you need to import is the policy class that will be used to create the networks (for the policy/value functions).\n",
        "This step is optional as you can directly use strings in the constructor: \n",
        "\n",
        "```PPO2('MlpPolicy', env)``` instead of ```PPO2(MlpPolicy, env)```\n",
        "\n",
        "Note that some algorithms like `SAC` have their own `MlpPolicy` (different from `stable_baselines.common.policies.MlpPolicy`), that's why using string for the policy is the recommened option."
      ]
    },
    {
      "cell_type": "code",
      "metadata": {
        "id": "ROUJr675TT01"
      },
      "source": [
        "from stable_baselines.common.policies import MlpPolicy"
      ],
      "execution_count": 7,
      "outputs": []
    },
    {
      "cell_type": "markdown",
      "metadata": {
        "id": "RapkYvTXL7Cd"
      },
      "source": [
        "## Create the Gym env and instantiate the agent\n",
        "\n",
        "For this example, we will use CartPole environment, a classic control problem.\n",
        "\n",
        "\"A pole is attached by an un-actuated joint to a cart, which moves along a frictionless track. The system is controlled by applying a force of +1 or -1 to the cart. The pendulum starts upright, and the goal is to prevent it from falling over. A reward of +1 is provided for every timestep that the pole remains upright. \"\n",
        "\n",
        "Cartpole environment: [https://gym.openai.com/envs/CartPole-v1/](https://gym.openai.com/envs/CartPole-v1/)\n",
        "\n",
        "![Cartpole](https://cdn-images-1.medium.com/max/1143/1*h4WTQNVIsvMXJTCpXm_TAw.gif)\n",
        "\n",
        "\n",
        "We chose the MlpPolicy because the observation of the CartPole task is a feature vector, not images.\n",
        "\n",
        "The type of action to use (discrete/continuous) will be automatically deduced from the environment action space\n",
        "\n",
        "Here we are using the [Proximal Policy Optimization](https://stable-baselines.readthedocs.io/en/master/modules/ppo2.html) algorithm (PPO2 is the version optimized for GPU), which is an Actor-Critic method: it uses a value function to improve the policy gradient descent (by reducing the variance).\n",
        "\n",
        "It combines ideas from [A2C](https://stable-baselines.readthedocs.io/en/master/modules/a2c.html) (having multiple workers and using an entropy bonus for exploration) and [TRPO](https://stable-baselines.readthedocs.io/en/master/modules/trpo.html) (it uses a trust region to improve stability and avoid catastrophic drops in performance).\n",
        "\n",
        "PPO is an on-policy algorithm, which means that the trajectories used to update the networks must be collected using the latest policy.\n",
        "It is usually less sample efficient than off-policy alorithms like [DQN](https://stable-baselines.readthedocs.io/en/master/modules/dqn.html), [SAC](https://stable-baselines.readthedocs.io/en/master/modules/sac.html) or [TD3](https://stable-baselines.readthedocs.io/en/master/modules/td3.html), but is much faster regarding wall-clock time.\n"
      ]
    },
    {
      "cell_type": "code",
      "metadata": {
        "id": "pUWGZp3i9wyf"
      },
      "source": [
        "ambiente = gym.make('CartPole-v1')\n",
        "\n",
        "model = PPO2(MlpPolicy, ambiente, verbose=0)"
      ],
      "execution_count": 25,
      "outputs": []
    },
    {
      "cell_type": "code",
      "metadata": {
        "colab": {
          "base_uri": "https://localhost:8080/",
          "height": 1000
        },
        "id": "fUSuwY48HLl-",
        "outputId": "6efc950f-77b0-45c6-bd14-981a64d9429b"
      },
      "source": [
        "modelo = PPO2(MlpPolicy, ambiente, verbose = 1)\r\n",
        "modelo.learn(total_timesteps = 10000)\r\n",
        "\r\n",
        "obs = ambiente.reset()\r\n",
        "\r\n",
        "for i in range(1000):\r\n",
        "  action, estados = modelo.predict(obs, deterministic = True)\r\n",
        "  obs, reward, done, info = ambiente.step(acao)\r\n",
        "  ambiente.render()\r\n",
        "  \r\n",
        "  if done:\r\n",
        "    obs = ambiente.reset()\r\n",
        "\r\n",
        "ambiente.close()"
      ],
      "execution_count": 28,
      "outputs": [
        {
          "output_type": "stream",
          "text": [
            "Wrapping the env in a DummyVecEnv.\n",
            "--------------------------------------\n",
            "| approxkl           | 0.00010015384 |\n",
            "| clipfrac           | 0.0           |\n",
            "| explained_variance | -0.0216       |\n",
            "| fps                | 307           |\n",
            "| n_updates          | 1             |\n",
            "| policy_entropy     | 0.69305027    |\n",
            "| policy_loss        | -0.0017282362 |\n",
            "| serial_timesteps   | 128           |\n",
            "| time_elapsed       | 1.76e-05      |\n",
            "| total_timesteps    | 128           |\n",
            "| value_loss         | 46.98421      |\n",
            "--------------------------------------\n",
            "---------------------------------------\n",
            "| approxkl           | 3.9955044e-05  |\n",
            "| clipfrac           | 0.0            |\n",
            "| explained_variance | -0.0451        |\n",
            "| fps                | 519            |\n",
            "| n_updates          | 2              |\n",
            "| policy_entropy     | 0.69257385     |\n",
            "| policy_loss        | -0.00069640053 |\n",
            "| serial_timesteps   | 256            |\n",
            "| time_elapsed       | 0.417          |\n",
            "| total_timesteps    | 256            |\n",
            "| value_loss         | 66.55375       |\n",
            "---------------------------------------\n",
            "--------------------------------------\n",
            "| approxkl           | 4.2374842e-05 |\n",
            "| clipfrac           | 0.0           |\n",
            "| explained_variance | 0.0318        |\n",
            "| fps                | 567           |\n",
            "| n_updates          | 3             |\n",
            "| policy_entropy     | 0.6921321     |\n",
            "| policy_loss        | -0.0010918716 |\n",
            "| serial_timesteps   | 384           |\n",
            "| time_elapsed       | 0.664         |\n",
            "| total_timesteps    | 384           |\n",
            "| value_loss         | 51.631973     |\n",
            "--------------------------------------\n",
            "--------------------------------------\n",
            "| approxkl           | 6.868713e-05  |\n",
            "| clipfrac           | 0.0           |\n",
            "| explained_variance | 0.00651       |\n",
            "| fps                | 607           |\n",
            "| n_updates          | 4             |\n",
            "| policy_entropy     | 0.69112647    |\n",
            "| policy_loss        | -0.0012368748 |\n",
            "| serial_timesteps   | 512           |\n",
            "| time_elapsed       | 0.89          |\n",
            "| total_timesteps    | 512           |\n",
            "| value_loss         | 54.54829      |\n",
            "--------------------------------------\n",
            "--------------------------------------\n",
            "| approxkl           | 4.8882684e-05 |\n",
            "| clipfrac           | 0.0           |\n",
            "| explained_variance | 0.00619       |\n",
            "| fps                | 620           |\n",
            "| n_updates          | 5             |\n",
            "| policy_entropy     | 0.69065243    |\n",
            "| policy_loss        | -0.0010403295 |\n",
            "| serial_timesteps   | 640           |\n",
            "| time_elapsed       | 1.1           |\n",
            "| total_timesteps    | 640           |\n",
            "| value_loss         | 41.058224     |\n",
            "--------------------------------------\n",
            "---------------------------------------\n",
            "| approxkl           | 1.9768757e-05  |\n",
            "| clipfrac           | 0.0            |\n",
            "| explained_variance | -0.00282       |\n",
            "| fps                | 610            |\n",
            "| n_updates          | 6              |\n",
            "| policy_entropy     | 0.68959606     |\n",
            "| policy_loss        | -0.00022153178 |\n",
            "| serial_timesteps   | 768            |\n",
            "| time_elapsed       | 1.31           |\n",
            "| total_timesteps    | 768            |\n",
            "| value_loss         | 51.00561       |\n",
            "---------------------------------------\n",
            "--------------------------------------\n",
            "| approxkl           | 9.79307e-06   |\n",
            "| clipfrac           | 0.0           |\n",
            "| explained_variance | 0.0216        |\n",
            "| fps                | 581           |\n",
            "| n_updates          | 7             |\n",
            "| policy_entropy     | 0.6879553     |\n",
            "| policy_loss        | -0.0001732384 |\n",
            "| serial_timesteps   | 896           |\n",
            "| time_elapsed       | 1.52          |\n",
            "| total_timesteps    | 896           |\n",
            "| value_loss         | 48.850914     |\n",
            "--------------------------------------\n",
            "--------------------------------------\n",
            "| approxkl           | 4.640917e-05  |\n",
            "| clipfrac           | 0.0           |\n",
            "| explained_variance | 0.0111        |\n",
            "| fps                | 552           |\n",
            "| n_updates          | 8             |\n",
            "| policy_entropy     | 0.6848571     |\n",
            "| policy_loss        | -0.0009826028 |\n",
            "| serial_timesteps   | 1024          |\n",
            "| time_elapsed       | 1.74          |\n",
            "| total_timesteps    | 1024          |\n",
            "| value_loss         | 46.133343     |\n",
            "--------------------------------------\n",
            "--------------------------------------\n",
            "| approxkl           | 0.00021792448 |\n",
            "| clipfrac           | 0.0           |\n",
            "| explained_variance | 0.014         |\n",
            "| fps                | 543           |\n",
            "| n_updates          | 9             |\n",
            "| policy_entropy     | 0.68265355    |\n",
            "| policy_loss        | -0.00439669   |\n",
            "| serial_timesteps   | 1152          |\n",
            "| time_elapsed       | 1.97          |\n",
            "| total_timesteps    | 1152          |\n",
            "| value_loss         | 35.546158     |\n",
            "--------------------------------------\n",
            "--------------------------------------\n",
            "| approxkl           | 0.00029599539 |\n",
            "| clipfrac           | 0.0           |\n",
            "| explained_variance | -0.0193       |\n",
            "| fps                | 568           |\n",
            "| n_updates          | 10            |\n",
            "| policy_entropy     | 0.6779285     |\n",
            "| policy_loss        | -0.001933661  |\n",
            "| serial_timesteps   | 1280          |\n",
            "| time_elapsed       | 2.21          |\n",
            "| total_timesteps    | 1280          |\n",
            "| value_loss         | 65.04196      |\n",
            "--------------------------------------\n",
            "--------------------------------------\n",
            "| approxkl           | 7.276835e-05  |\n",
            "| clipfrac           | 0.0           |\n",
            "| explained_variance | 0.0039        |\n",
            "| fps                | 539           |\n",
            "| n_updates          | 11            |\n",
            "| policy_entropy     | 0.6809799     |\n",
            "| policy_loss        | -0.0011375647 |\n",
            "| serial_timesteps   | 1408          |\n",
            "| time_elapsed       | 2.43          |\n",
            "| total_timesteps    | 1408          |\n",
            "| value_loss         | 70.664696     |\n",
            "--------------------------------------\n",
            "-------------------------------------\n",
            "| approxkl           | 5.704348e-05 |\n",
            "| clipfrac           | 0.0          |\n",
            "| explained_variance | 0.0151       |\n",
            "| fps                | 564          |\n",
            "| n_updates          | 12           |\n",
            "| policy_entropy     | 0.66634065   |\n",
            "| policy_loss        | 0.0003761251 |\n",
            "| serial_timesteps   | 1536         |\n",
            "| time_elapsed       | 2.67         |\n",
            "| total_timesteps    | 1536         |\n",
            "| value_loss         | 33.60439     |\n",
            "-------------------------------------\n",
            "--------------------------------------\n",
            "| approxkl           | 3.1248119e-06 |\n",
            "| clipfrac           | 0.0           |\n",
            "| explained_variance | 0.0272        |\n",
            "| fps                | 574           |\n",
            "| n_updates          | 13            |\n",
            "| policy_entropy     | 0.6813856     |\n",
            "| policy_loss        | -8.666143e-05 |\n",
            "| serial_timesteps   | 1664          |\n",
            "| time_elapsed       | 2.9           |\n",
            "| total_timesteps    | 1664          |\n",
            "| value_loss         | 63.986618     |\n",
            "--------------------------------------\n",
            "--------------------------------------\n",
            "| approxkl           | 1.1598054e-05 |\n",
            "| clipfrac           | 0.0           |\n",
            "| explained_variance | 0.0208        |\n",
            "| fps                | 609           |\n",
            "| n_updates          | 14            |\n",
            "| policy_entropy     | 0.6783135     |\n",
            "| policy_loss        | -0.0006644133 |\n",
            "| serial_timesteps   | 1792          |\n",
            "| time_elapsed       | 3.12          |\n",
            "| total_timesteps    | 1792          |\n",
            "| value_loss         | 55.888454     |\n",
            "--------------------------------------\n",
            "--------------------------------------\n",
            "| approxkl           | 0.0002123937  |\n",
            "| clipfrac           | 0.0           |\n",
            "| explained_variance | -0.0128       |\n",
            "| fps                | 620           |\n",
            "| n_updates          | 15            |\n",
            "| policy_entropy     | 0.6701156     |\n",
            "| policy_loss        | -0.0012964673 |\n",
            "| serial_timesteps   | 1920          |\n",
            "| time_elapsed       | 3.33          |\n",
            "| total_timesteps    | 1920          |\n",
            "| value_loss         | 56.595448     |\n",
            "--------------------------------------\n",
            "--------------------------------------\n",
            "| approxkl           | 7.907153e-05  |\n",
            "| clipfrac           | 0.0           |\n",
            "| explained_variance | 0.027         |\n",
            "| fps                | 593           |\n",
            "| n_updates          | 16            |\n",
            "| policy_entropy     | 0.6654172     |\n",
            "| policy_loss        | -0.0012012542 |\n",
            "| serial_timesteps   | 2048          |\n",
            "| time_elapsed       | 3.54          |\n",
            "| total_timesteps    | 2048          |\n",
            "| value_loss         | 37.790028     |\n",
            "--------------------------------------\n",
            "--------------------------------------\n",
            "| approxkl           | 9.39181e-05   |\n",
            "| clipfrac           | 0.0           |\n",
            "| explained_variance | 0.033         |\n",
            "| fps                | 592           |\n",
            "| n_updates          | 17            |\n",
            "| policy_entropy     | 0.66606414    |\n",
            "| policy_loss        | -0.0012819103 |\n",
            "| serial_timesteps   | 2176          |\n",
            "| time_elapsed       | 3.76          |\n",
            "| total_timesteps    | 2176          |\n",
            "| value_loss         | 34.25652      |\n",
            "--------------------------------------\n",
            "--------------------------------------\n",
            "| approxkl           | 9.918964e-05  |\n",
            "| clipfrac           | 0.0           |\n",
            "| explained_variance | 0.0281        |\n",
            "| fps                | 573           |\n",
            "| n_updates          | 18            |\n",
            "| policy_entropy     | 0.6443727     |\n",
            "| policy_loss        | -0.0023144805 |\n",
            "| serial_timesteps   | 2304          |\n",
            "| time_elapsed       | 3.97          |\n",
            "| total_timesteps    | 2304          |\n",
            "| value_loss         | 55.843723     |\n",
            "--------------------------------------\n",
            "--------------------------------------\n",
            "| approxkl           | 4.159895e-05  |\n",
            "| clipfrac           | 0.0           |\n",
            "| explained_variance | -0.000767     |\n",
            "| fps                | 499           |\n",
            "| n_updates          | 19            |\n",
            "| policy_entropy     | 0.6581784     |\n",
            "| policy_loss        | -0.0005384737 |\n",
            "| serial_timesteps   | 2432          |\n",
            "| time_elapsed       | 4.2           |\n",
            "| total_timesteps    | 2432          |\n",
            "| value_loss         | 63.82538      |\n",
            "--------------------------------------\n",
            "--------------------------------------\n",
            "| approxkl           | 5.0276707e-05 |\n",
            "| clipfrac           | 0.0           |\n",
            "| explained_variance | 0.033         |\n",
            "| fps                | 531           |\n",
            "| n_updates          | 20            |\n",
            "| policy_entropy     | 0.65608114    |\n",
            "| policy_loss        | 9.3146926e-05 |\n",
            "| serial_timesteps   | 2560          |\n",
            "| time_elapsed       | 4.46          |\n",
            "| total_timesteps    | 2560          |\n",
            "| value_loss         | 69.392624     |\n",
            "--------------------------------------\n",
            "--------------------------------------\n",
            "| approxkl           | 0.00024119989 |\n",
            "| clipfrac           | 0.0           |\n",
            "| explained_variance | 0.0252        |\n",
            "| fps                | 572           |\n",
            "| n_updates          | 21            |\n",
            "| policy_entropy     | 0.6384606     |\n",
            "| policy_loss        | -0.0043954235 |\n",
            "| serial_timesteps   | 2688          |\n",
            "| time_elapsed       | 4.7           |\n",
            "| total_timesteps    | 2688          |\n",
            "| value_loss         | 56.476433     |\n",
            "--------------------------------------\n",
            "--------------------------------------\n",
            "| approxkl           | 0.00046701383 |\n",
            "| clipfrac           | 0.0           |\n",
            "| explained_variance | 0.0374        |\n",
            "| fps                | 590           |\n",
            "| n_updates          | 22            |\n",
            "| policy_entropy     | 0.6465477     |\n",
            "| policy_loss        | -0.0043975264 |\n",
            "| serial_timesteps   | 2816          |\n",
            "| time_elapsed       | 4.92          |\n",
            "| total_timesteps    | 2816          |\n",
            "| value_loss         | 58.43073      |\n",
            "--------------------------------------\n",
            "--------------------------------------\n",
            "| approxkl           | 0.00021046112 |\n",
            "| clipfrac           | 0.0           |\n",
            "| explained_variance | -0.00391      |\n",
            "| fps                | 524           |\n",
            "| n_updates          | 23            |\n",
            "| policy_entropy     | 0.61954045    |\n",
            "| policy_loss        | -0.0021322777 |\n",
            "| serial_timesteps   | 2944          |\n",
            "| time_elapsed       | 5.14          |\n",
            "| total_timesteps    | 2944          |\n",
            "| value_loss         | 57.193295     |\n",
            "--------------------------------------\n",
            "--------------------------------------\n",
            "| approxkl           | 6.283787e-05  |\n",
            "| clipfrac           | 0.0           |\n",
            "| explained_variance | -0.00533      |\n",
            "| fps                | 563           |\n",
            "| n_updates          | 24            |\n",
            "| policy_entropy     | 0.6128409     |\n",
            "| policy_loss        | -0.0012104221 |\n",
            "| serial_timesteps   | 3072          |\n",
            "| time_elapsed       | 5.38          |\n",
            "| total_timesteps    | 3072          |\n",
            "| value_loss         | 75.91863      |\n",
            "--------------------------------------\n",
            "--------------------------------------\n",
            "| approxkl           | 0.0010058625  |\n",
            "| clipfrac           | 0.001953125   |\n",
            "| explained_variance | 0.094         |\n",
            "| fps                | 599           |\n",
            "| n_updates          | 25            |\n",
            "| policy_entropy     | 0.6181469     |\n",
            "| policy_loss        | -0.0015314145 |\n",
            "| serial_timesteps   | 3200          |\n",
            "| time_elapsed       | 5.61          |\n",
            "| total_timesteps    | 3200          |\n",
            "| value_loss         | 100.51471     |\n",
            "--------------------------------------\n",
            "--------------------------------------\n",
            "| approxkl           | 0.00015468805 |\n",
            "| clipfrac           | 0.0           |\n",
            "| explained_variance | -0.0409       |\n",
            "| fps                | 566           |\n",
            "| n_updates          | 26            |\n",
            "| policy_entropy     | 0.59616977    |\n",
            "| policy_loss        | -0.0018751193 |\n",
            "| serial_timesteps   | 3328          |\n",
            "| time_elapsed       | 5.83          |\n",
            "| total_timesteps    | 3328          |\n",
            "| value_loss         | 63.836365     |\n",
            "--------------------------------------\n",
            "-------------------------------------\n",
            "| approxkl           | 9.487911e-05 |\n",
            "| clipfrac           | 0.0          |\n",
            "| explained_variance | 0.135        |\n",
            "| fps                | 562          |\n",
            "| n_updates          | 27           |\n",
            "| policy_entropy     | 0.5759833    |\n",
            "| policy_loss        | 0.001729235  |\n",
            "| serial_timesteps   | 3456         |\n",
            "| time_elapsed       | 6.05         |\n",
            "| total_timesteps    | 3456         |\n",
            "| value_loss         | 66.11349     |\n",
            "-------------------------------------\n",
            "---------------------------------------\n",
            "| approxkl           | 4.8521113e-05  |\n",
            "| clipfrac           | 0.0            |\n",
            "| explained_variance | -0.0275        |\n",
            "| fps                | 536            |\n",
            "| n_updates          | 28             |\n",
            "| policy_entropy     | 0.5812458      |\n",
            "| policy_loss        | -0.00061290746 |\n",
            "| serial_timesteps   | 3584           |\n",
            "| time_elapsed       | 6.28           |\n",
            "| total_timesteps    | 3584           |\n",
            "| value_loss         | 73.63787       |\n",
            "---------------------------------------\n",
            "--------------------------------------\n",
            "| approxkl           | 0.00021148265 |\n",
            "| clipfrac           | 0.0           |\n",
            "| explained_variance | 0.0193        |\n",
            "| fps                | 565           |\n",
            "| n_updates          | 29            |\n",
            "| policy_entropy     | 0.58592105    |\n",
            "| policy_loss        | -0.0007353991 |\n",
            "| serial_timesteps   | 3712          |\n",
            "| time_elapsed       | 6.52          |\n",
            "| total_timesteps    | 3712          |\n",
            "| value_loss         | 69.0105       |\n",
            "--------------------------------------\n",
            "---------------------------------------\n",
            "| approxkl           | 9.319626e-06   |\n",
            "| clipfrac           | 0.0            |\n",
            "| explained_variance | 0.0822         |\n",
            "| fps                | 601            |\n",
            "| n_updates          | 30             |\n",
            "| policy_entropy     | 0.59196675     |\n",
            "| policy_loss        | -0.00073979364 |\n",
            "| serial_timesteps   | 3840           |\n",
            "| time_elapsed       | 6.75           |\n",
            "| total_timesteps    | 3840           |\n",
            "| value_loss         | 53.8554        |\n",
            "---------------------------------------\n",
            "--------------------------------------\n",
            "| approxkl           | 9.15715e-05   |\n",
            "| clipfrac           | 0.0           |\n",
            "| explained_variance | 0.125         |\n",
            "| fps                | 584           |\n",
            "| n_updates          | 31            |\n",
            "| policy_entropy     | 0.589741      |\n",
            "| policy_loss        | -0.0012894727 |\n",
            "| serial_timesteps   | 3968          |\n",
            "| time_elapsed       | 6.96          |\n",
            "| total_timesteps    | 3968          |\n",
            "| value_loss         | 76.00864      |\n",
            "--------------------------------------\n",
            "---------------------------------------\n",
            "| approxkl           | 3.8388942e-05  |\n",
            "| clipfrac           | 0.0            |\n",
            "| explained_variance | 0.107          |\n",
            "| fps                | 550            |\n",
            "| n_updates          | 32             |\n",
            "| policy_entropy     | 0.5879486      |\n",
            "| policy_loss        | -0.00092988997 |\n",
            "| serial_timesteps   | 4096           |\n",
            "| time_elapsed       | 7.18           |\n",
            "| total_timesteps    | 4096           |\n",
            "| value_loss         | 73.071106      |\n",
            "---------------------------------------\n",
            "--------------------------------------\n",
            "| approxkl           | 0.00037710083 |\n",
            "| clipfrac           | 0.0           |\n",
            "| explained_variance | 0.265         |\n",
            "| fps                | 533           |\n",
            "| n_updates          | 33            |\n",
            "| policy_entropy     | 0.60211927    |\n",
            "| policy_loss        | -0.0031611405 |\n",
            "| serial_timesteps   | 4224          |\n",
            "| time_elapsed       | 7.41          |\n",
            "| total_timesteps    | 4224          |\n",
            "| value_loss         | 69.59733      |\n",
            "--------------------------------------\n",
            "--------------------------------------\n",
            "| approxkl           | 0.00012628986 |\n",
            "| clipfrac           | 0.0           |\n",
            "| explained_variance | 0.0761        |\n",
            "| fps                | 566           |\n",
            "| n_updates          | 34            |\n",
            "| policy_entropy     | 0.62754345    |\n",
            "| policy_loss        | 0.0025619003  |\n",
            "| serial_timesteps   | 4352          |\n",
            "| time_elapsed       | 7.65          |\n",
            "| total_timesteps    | 4352          |\n",
            "| value_loss         | 93.88377      |\n",
            "--------------------------------------\n",
            "-------------------------------------\n",
            "| approxkl           | 0.0013687268 |\n",
            "| clipfrac           | 0.00390625   |\n",
            "| explained_variance | 0.191        |\n",
            "| fps                | 561          |\n",
            "| n_updates          | 35           |\n",
            "| policy_entropy     | 0.6012947    |\n",
            "| policy_loss        | -0.004177043 |\n",
            "| serial_timesteps   | 4480         |\n",
            "| time_elapsed       | 7.88         |\n",
            "| total_timesteps    | 4480         |\n",
            "| value_loss         | 92.08951     |\n",
            "-------------------------------------\n",
            "--------------------------------------\n",
            "| approxkl           | 0.0013195169  |\n",
            "| clipfrac           | 0.001953125   |\n",
            "| explained_variance | 0.11          |\n",
            "| fps                | 590           |\n",
            "| n_updates          | 36            |\n",
            "| policy_entropy     | 0.61469585    |\n",
            "| policy_loss        | -0.0016233237 |\n",
            "| serial_timesteps   | 4608          |\n",
            "| time_elapsed       | 8.11          |\n",
            "| total_timesteps    | 4608          |\n",
            "| value_loss         | 67.66078      |\n",
            "--------------------------------------\n",
            "--------------------------------------\n",
            "| approxkl           | 2.1922526e-05 |\n",
            "| clipfrac           | 0.0           |\n",
            "| explained_variance | 0.0677        |\n",
            "| fps                | 586           |\n",
            "| n_updates          | 37            |\n",
            "| policy_entropy     | 0.5760841     |\n",
            "| policy_loss        | 0.00022685993 |\n",
            "| serial_timesteps   | 4736          |\n",
            "| time_elapsed       | 8.33          |\n",
            "| total_timesteps    | 4736          |\n",
            "| value_loss         | 55.9419       |\n",
            "--------------------------------------\n",
            "--------------------------------------\n",
            "| approxkl           | 5.4680593e-05 |\n",
            "| clipfrac           | 0.0           |\n",
            "| explained_variance | 0.116         |\n",
            "| fps                | 566           |\n",
            "| n_updates          | 38            |\n",
            "| policy_entropy     | 0.6007738     |\n",
            "| policy_loss        | -0.0005570034 |\n",
            "| serial_timesteps   | 4864          |\n",
            "| time_elapsed       | 8.54          |\n",
            "| total_timesteps    | 4864          |\n",
            "| value_loss         | 69.62208      |\n",
            "--------------------------------------\n",
            "--------------------------------------\n",
            "| approxkl           | 4.025686e-05  |\n",
            "| clipfrac           | 0.0           |\n",
            "| explained_variance | -0.00782      |\n",
            "| fps                | 586           |\n",
            "| n_updates          | 39            |\n",
            "| policy_entropy     | 0.6082016     |\n",
            "| policy_loss        | -0.0005758735 |\n",
            "| serial_timesteps   | 4992          |\n",
            "| time_elapsed       | 8.77          |\n",
            "| total_timesteps    | 4992          |\n",
            "| value_loss         | 47.80056      |\n",
            "--------------------------------------\n",
            "---------------------------------------\n",
            "| approxkl           | 6.488995e-06   |\n",
            "| clipfrac           | 0.0            |\n",
            "| explained_variance | -0.0324        |\n",
            "| fps                | 562            |\n",
            "| n_updates          | 40             |\n",
            "| policy_entropy     | 0.58299506     |\n",
            "| policy_loss        | -0.00035558583 |\n",
            "| serial_timesteps   | 5120           |\n",
            "| time_elapsed       | 8.99           |\n",
            "| total_timesteps    | 5120           |\n",
            "| value_loss         | 63.62299       |\n",
            "---------------------------------------\n",
            "---------------------------------------\n",
            "| approxkl           | 2.9024483e-05  |\n",
            "| clipfrac           | 0.0            |\n",
            "| explained_variance | 0.106          |\n",
            "| fps                | 569            |\n",
            "| n_updates          | 41             |\n",
            "| policy_entropy     | 0.5992525      |\n",
            "| policy_loss        | -0.00022434455 |\n",
            "| serial_timesteps   | 5248           |\n",
            "| time_elapsed       | 9.22           |\n",
            "| total_timesteps    | 5248           |\n",
            "| value_loss         | 73.855         |\n",
            "---------------------------------------\n",
            "--------------------------------------\n",
            "| approxkl           | 0.00013135711 |\n",
            "| clipfrac           | 0.0           |\n",
            "| explained_variance | 0.151         |\n",
            "| fps                | 585           |\n",
            "| n_updates          | 42            |\n",
            "| policy_entropy     | 0.59465456    |\n",
            "| policy_loss        | -0.0012424455 |\n",
            "| serial_timesteps   | 5376          |\n",
            "| time_elapsed       | 9.44          |\n",
            "| total_timesteps    | 5376          |\n",
            "| value_loss         | 61.517967     |\n",
            "--------------------------------------\n",
            "---------------------------------------\n",
            "| approxkl           | 2.8022581e-05  |\n",
            "| clipfrac           | 0.0            |\n",
            "| explained_variance | 0.134          |\n",
            "| fps                | 588            |\n",
            "| n_updates          | 43             |\n",
            "| policy_entropy     | 0.62503153     |\n",
            "| policy_loss        | -0.00038881123 |\n",
            "| serial_timesteps   | 5504           |\n",
            "| time_elapsed       | 9.66           |\n",
            "| total_timesteps    | 5504           |\n",
            "| value_loss         | 65.01028       |\n",
            "---------------------------------------\n",
            "---------------------------------------\n",
            "| approxkl           | 9.4401275e-06  |\n",
            "| clipfrac           | 0.0            |\n",
            "| explained_variance | 0.0718         |\n",
            "| fps                | 557            |\n",
            "| n_updates          | 44             |\n",
            "| policy_entropy     | 0.60705036     |\n",
            "| policy_loss        | -7.0612645e-05 |\n",
            "| serial_timesteps   | 5632           |\n",
            "| time_elapsed       | 9.88           |\n",
            "| total_timesteps    | 5632           |\n",
            "| value_loss         | 61.51814       |\n",
            "---------------------------------------\n",
            "--------------------------------------\n",
            "| approxkl           | 1.586289e-05  |\n",
            "| clipfrac           | 0.0           |\n",
            "| explained_variance | 0.14          |\n",
            "| fps                | 581           |\n",
            "| n_updates          | 45            |\n",
            "| policy_entropy     | 0.5947087     |\n",
            "| policy_loss        | -0.0011517064 |\n",
            "| serial_timesteps   | 5760          |\n",
            "| time_elapsed       | 10.1          |\n",
            "| total_timesteps    | 5760          |\n",
            "| value_loss         | 69.81715      |\n",
            "--------------------------------------\n",
            "--------------------------------------\n",
            "| approxkl           | 1.9820129e-05 |\n",
            "| clipfrac           | 0.0           |\n",
            "| explained_variance | 0.102         |\n",
            "| fps                | 597           |\n",
            "| n_updates          | 46            |\n",
            "| policy_entropy     | 0.5914247     |\n",
            "| policy_loss        | -0.0005116856 |\n",
            "| serial_timesteps   | 5888          |\n",
            "| time_elapsed       | 10.3          |\n",
            "| total_timesteps    | 5888          |\n",
            "| value_loss         | 58.533627     |\n",
            "--------------------------------------\n",
            "---------------------------------------\n",
            "| approxkl           | 9.570866e-06   |\n",
            "| clipfrac           | 0.0            |\n",
            "| explained_variance | 0.129          |\n",
            "| fps                | 528            |\n",
            "| n_updates          | 47             |\n",
            "| policy_entropy     | 0.588521       |\n",
            "| policy_loss        | -0.00086615316 |\n",
            "| serial_timesteps   | 6016           |\n",
            "| time_elapsed       | 10.5           |\n",
            "| total_timesteps    | 6016           |\n",
            "| value_loss         | 53.10975       |\n",
            "---------------------------------------\n",
            "---------------------------------------\n",
            "| approxkl           | 3.443564e-05   |\n",
            "| clipfrac           | 0.0            |\n",
            "| explained_variance | -0.00678       |\n",
            "| fps                | 527            |\n",
            "| n_updates          | 48             |\n",
            "| policy_entropy     | 0.60709035     |\n",
            "| policy_loss        | -0.00080281566 |\n",
            "| serial_timesteps   | 6144           |\n",
            "| time_elapsed       | 10.8           |\n",
            "| total_timesteps    | 6144           |\n",
            "| value_loss         | 61.659527      |\n",
            "---------------------------------------\n",
            "---------------------------------------\n",
            "| approxkl           | 5.7778097e-06  |\n",
            "| clipfrac           | 0.0            |\n",
            "| explained_variance | 0.201          |\n",
            "| fps                | 612            |\n",
            "| n_updates          | 49             |\n",
            "| policy_entropy     | 0.59465903     |\n",
            "| policy_loss        | -0.00046774145 |\n",
            "| serial_timesteps   | 6272           |\n",
            "| time_elapsed       | 11             |\n",
            "| total_timesteps    | 6272           |\n",
            "| value_loss         | 63.779564      |\n",
            "---------------------------------------\n",
            "--------------------------------------\n",
            "| approxkl           | 0.00010754115 |\n",
            "| clipfrac           | 0.0           |\n",
            "| explained_variance | 0.175         |\n",
            "| fps                | 562           |\n",
            "| n_updates          | 50            |\n",
            "| policy_entropy     | 0.5989103     |\n",
            "| policy_loss        | -0.0020829213 |\n",
            "| serial_timesteps   | 6400          |\n",
            "| time_elapsed       | 11.2          |\n",
            "| total_timesteps    | 6400          |\n",
            "| value_loss         | 81.905464     |\n",
            "--------------------------------------\n",
            "-------------------------------------\n",
            "| approxkl           | 0.0012179657 |\n",
            "| clipfrac           | 0.0          |\n",
            "| explained_variance | -0.175       |\n",
            "| fps                | 501          |\n",
            "| n_updates          | 51           |\n",
            "| policy_entropy     | 0.5709851    |\n",
            "| policy_loss        | -0.007041756 |\n",
            "| serial_timesteps   | 6528         |\n",
            "| time_elapsed       | 11.5         |\n",
            "| total_timesteps    | 6528         |\n",
            "| value_loss         | 65.889       |\n",
            "-------------------------------------\n",
            "--------------------------------------\n",
            "| approxkl           | 5.5498873e-05 |\n",
            "| clipfrac           | 0.0           |\n",
            "| explained_variance | 0.319         |\n",
            "| fps                | 591           |\n",
            "| n_updates          | 52            |\n",
            "| policy_entropy     | 0.5726306     |\n",
            "| policy_loss        | 0.0009881008  |\n",
            "| serial_timesteps   | 6656          |\n",
            "| time_elapsed       | 11.7          |\n",
            "| total_timesteps    | 6656          |\n",
            "| value_loss         | 52.24506      |\n",
            "--------------------------------------\n",
            "--------------------------------------\n",
            "| approxkl           | 0.00025442915 |\n",
            "| clipfrac           | 0.0           |\n",
            "| explained_variance | 0.266         |\n",
            "| fps                | 620           |\n",
            "| n_updates          | 53            |\n",
            "| policy_entropy     | 0.58460265    |\n",
            "| policy_loss        | -0.0019314729 |\n",
            "| serial_timesteps   | 6784          |\n",
            "| time_elapsed       | 11.9          |\n",
            "| total_timesteps    | 6784          |\n",
            "| value_loss         | 45.884663     |\n",
            "--------------------------------------\n",
            "-------------------------------------\n",
            "| approxkl           | 7.766047e-05 |\n",
            "| clipfrac           | 0.0          |\n",
            "| explained_variance | -0.047       |\n",
            "| fps                | 513          |\n",
            "| n_updates          | 54           |\n",
            "| policy_entropy     | 0.572088     |\n",
            "| policy_loss        | -0.001670303 |\n",
            "| serial_timesteps   | 6912         |\n",
            "| time_elapsed       | 12.2         |\n",
            "| total_timesteps    | 6912         |\n",
            "| value_loss         | 40.94371     |\n",
            "-------------------------------------\n",
            "--------------------------------------\n",
            "| approxkl           | 0.0001241591  |\n",
            "| clipfrac           | 0.0           |\n",
            "| explained_variance | 0.0568        |\n",
            "| fps                | 553           |\n",
            "| n_updates          | 55            |\n",
            "| policy_entropy     | 0.60375947    |\n",
            "| policy_loss        | 0.00035616668 |\n",
            "| serial_timesteps   | 7040          |\n",
            "| time_elapsed       | 12.4          |\n",
            "| total_timesteps    | 7040          |\n",
            "| value_loss         | 56.62642      |\n",
            "--------------------------------------\n",
            "---------------------------------------\n",
            "| approxkl           | 2.3037032e-06  |\n",
            "| clipfrac           | 0.0            |\n",
            "| explained_variance | 0.00909        |\n",
            "| fps                | 532            |\n",
            "| n_updates          | 56             |\n",
            "| policy_entropy     | 0.53306574     |\n",
            "| policy_loss        | -0.00023735268 |\n",
            "| serial_timesteps   | 7168           |\n",
            "| time_elapsed       | 12.6           |\n",
            "| total_timesteps    | 7168           |\n",
            "| value_loss         | 46.989674      |\n",
            "---------------------------------------\n",
            "-------------------------------------\n",
            "| approxkl           | 7.046804e-06 |\n",
            "| clipfrac           | 0.0          |\n",
            "| explained_variance | -0.108       |\n",
            "| fps                | 540          |\n",
            "| n_updates          | 57           |\n",
            "| policy_entropy     | 0.6055491    |\n",
            "| policy_loss        | 3.654661e-05 |\n",
            "| serial_timesteps   | 7296         |\n",
            "| time_elapsed       | 12.9         |\n",
            "| total_timesteps    | 7296         |\n",
            "| value_loss         | 80.76813     |\n",
            "-------------------------------------\n",
            "-------------------------------------\n",
            "| approxkl           | 0.0005433023 |\n",
            "| clipfrac           | 0.0          |\n",
            "| explained_variance | 0.111        |\n",
            "| fps                | 518          |\n",
            "| n_updates          | 58           |\n",
            "| policy_entropy     | 0.5980758    |\n",
            "| policy_loss        | 0.0004986352 |\n",
            "| serial_timesteps   | 7424         |\n",
            "| time_elapsed       | 13.1         |\n",
            "| total_timesteps    | 7424         |\n",
            "| value_loss         | 55.816242    |\n",
            "-------------------------------------\n",
            "--------------------------------------\n",
            "| approxkl           | 0.00019271497 |\n",
            "| clipfrac           | 0.0           |\n",
            "| explained_variance | 0.532         |\n",
            "| fps                | 507           |\n",
            "| n_updates          | 59            |\n",
            "| policy_entropy     | 0.6062162     |\n",
            "| policy_loss        | 0.0012191137  |\n",
            "| serial_timesteps   | 7552          |\n",
            "| time_elapsed       | 13.4          |\n",
            "| total_timesteps    | 7552          |\n",
            "| value_loss         | 73.318375     |\n",
            "--------------------------------------\n",
            "--------------------------------------\n",
            "| approxkl           | 5.7266363e-05 |\n",
            "| clipfrac           | 0.0           |\n",
            "| explained_variance | 0.462         |\n",
            "| fps                | 450           |\n",
            "| n_updates          | 60            |\n",
            "| policy_entropy     | 0.5973389     |\n",
            "| policy_loss        | 7.501879e-05  |\n",
            "| serial_timesteps   | 7680          |\n",
            "| time_elapsed       | 13.6          |\n",
            "| total_timesteps    | 7680          |\n",
            "| value_loss         | 72.90843      |\n",
            "--------------------------------------\n",
            "--------------------------------------\n",
            "| approxkl           | 4.2075517e-05 |\n",
            "| clipfrac           | 0.0           |\n",
            "| explained_variance | 0.0838        |\n",
            "| fps                | 522           |\n",
            "| n_updates          | 61            |\n",
            "| policy_entropy     | 0.5853677     |\n",
            "| policy_loss        | 0.0004559554  |\n",
            "| serial_timesteps   | 7808          |\n",
            "| time_elapsed       | 13.9          |\n",
            "| total_timesteps    | 7808          |\n",
            "| value_loss         | 55.560085     |\n",
            "--------------------------------------\n",
            "--------------------------------------\n",
            "| approxkl           | 4.0231066e-07 |\n",
            "| clipfrac           | 0.0           |\n",
            "| explained_variance | 0.109         |\n",
            "| fps                | 510           |\n",
            "| n_updates          | 62            |\n",
            "| policy_entropy     | 0.6090935     |\n",
            "| policy_loss        | 3.6339974e-05 |\n",
            "| serial_timesteps   | 7936          |\n",
            "| time_elapsed       | 14.1          |\n",
            "| total_timesteps    | 7936          |\n",
            "| value_loss         | 76.429405     |\n",
            "--------------------------------------\n",
            "--------------------------------------\n",
            "| approxkl           | 1.1959828e-05 |\n",
            "| clipfrac           | 0.0           |\n",
            "| explained_variance | 0.0425        |\n",
            "| fps                | 515           |\n",
            "| n_updates          | 63            |\n",
            "| policy_entropy     | 0.6038398     |\n",
            "| policy_loss        | 0.0003461677  |\n",
            "| serial_timesteps   | 8064          |\n",
            "| time_elapsed       | 14.4          |\n",
            "| total_timesteps    | 8064          |\n",
            "| value_loss         | 48.10023      |\n",
            "--------------------------------------\n",
            "---------------------------------------\n",
            "| approxkl           | 5.7184407e-06  |\n",
            "| clipfrac           | 0.0            |\n",
            "| explained_variance | 0.0143         |\n",
            "| fps                | 471            |\n",
            "| n_updates          | 64             |\n",
            "| policy_entropy     | 0.54427433     |\n",
            "| policy_loss        | -0.00058244553 |\n",
            "| serial_timesteps   | 8192           |\n",
            "| time_elapsed       | 14.6           |\n",
            "| total_timesteps    | 8192           |\n",
            "| value_loss         | 57.11203       |\n",
            "---------------------------------------\n",
            "--------------------------------------\n",
            "| approxkl           | 8.5808184e-05 |\n",
            "| clipfrac           | 0.0           |\n",
            "| explained_variance | 0.214         |\n",
            "| fps                | 471           |\n",
            "| n_updates          | 65            |\n",
            "| policy_entropy     | 0.6151008     |\n",
            "| policy_loss        | 1.5741563e-05 |\n",
            "| serial_timesteps   | 8320          |\n",
            "| time_elapsed       | 14.9          |\n",
            "| total_timesteps    | 8320          |\n",
            "| value_loss         | 52.487778     |\n",
            "--------------------------------------\n",
            "---------------------------------------\n",
            "| approxkl           | 0.0001003059   |\n",
            "| clipfrac           | 0.0            |\n",
            "| explained_variance | 0.075          |\n",
            "| fps                | 550            |\n",
            "| n_updates          | 66             |\n",
            "| policy_entropy     | 0.5953255      |\n",
            "| policy_loss        | -0.00065800466 |\n",
            "| serial_timesteps   | 8448           |\n",
            "| time_elapsed       | 15.2           |\n",
            "| total_timesteps    | 8448           |\n",
            "| value_loss         | 51.94348       |\n",
            "---------------------------------------\n",
            "--------------------------------------\n",
            "| approxkl           | 2.2018872e-05 |\n",
            "| clipfrac           | 0.0           |\n",
            "| explained_variance | 0.349         |\n",
            "| fps                | 482           |\n",
            "| n_updates          | 67            |\n",
            "| policy_entropy     | 0.61758316    |\n",
            "| policy_loss        | 0.0014500997  |\n",
            "| serial_timesteps   | 8576          |\n",
            "| time_elapsed       | 15.4          |\n",
            "| total_timesteps    | 8576          |\n",
            "| value_loss         | 50.617348     |\n",
            "--------------------------------------\n",
            "--------------------------------------\n",
            "| approxkl           | 0.00017672255 |\n",
            "| clipfrac           | 0.0           |\n",
            "| explained_variance | 0.279         |\n",
            "| fps                | 453           |\n",
            "| n_updates          | 68            |\n",
            "| policy_entropy     | 0.60953176    |\n",
            "| policy_loss        | -0.0036636386 |\n",
            "| serial_timesteps   | 8704          |\n",
            "| time_elapsed       | 15.7          |\n",
            "| total_timesteps    | 8704          |\n",
            "| value_loss         | 51.20349      |\n",
            "--------------------------------------\n",
            "--------------------------------------\n",
            "| approxkl           | 0.0001599941  |\n",
            "| clipfrac           | 0.0           |\n",
            "| explained_variance | 0.0466        |\n",
            "| fps                | 532           |\n",
            "| n_updates          | 69            |\n",
            "| policy_entropy     | 0.58050597    |\n",
            "| policy_loss        | -0.0008595176 |\n",
            "| serial_timesteps   | 8832          |\n",
            "| time_elapsed       | 16            |\n",
            "| total_timesteps    | 8832          |\n",
            "| value_loss         | 70.01965      |\n",
            "--------------------------------------\n",
            "--------------------------------------\n",
            "| approxkl           | 1.1218925e-05 |\n",
            "| clipfrac           | 0.0           |\n",
            "| explained_variance | 0.168         |\n",
            "| fps                | 478           |\n",
            "| n_updates          | 70            |\n",
            "| policy_entropy     | 0.6005369     |\n",
            "| policy_loss        | 7.113442e-06  |\n",
            "| serial_timesteps   | 8960          |\n",
            "| time_elapsed       | 16.2          |\n",
            "| total_timesteps    | 8960          |\n",
            "| value_loss         | 68.044914     |\n",
            "--------------------------------------\n",
            "---------------------------------------\n",
            "| approxkl           | 5.137863e-05   |\n",
            "| clipfrac           | 0.0            |\n",
            "| explained_variance | 0.241          |\n",
            "| fps                | 476            |\n",
            "| n_updates          | 71             |\n",
            "| policy_entropy     | 0.6163677      |\n",
            "| policy_loss        | -0.00031549647 |\n",
            "| serial_timesteps   | 9088           |\n",
            "| time_elapsed       | 16.5           |\n",
            "| total_timesteps    | 9088           |\n",
            "| value_loss         | 58.02863       |\n",
            "---------------------------------------\n",
            "--------------------------------------\n",
            "| approxkl           | 1.0338657e-06 |\n",
            "| clipfrac           | 0.0           |\n",
            "| explained_variance | 0.0215        |\n",
            "| fps                | 510           |\n",
            "| n_updates          | 72            |\n",
            "| policy_entropy     | 0.59640324    |\n",
            "| policy_loss        | 0.00023291749 |\n",
            "| serial_timesteps   | 9216          |\n",
            "| time_elapsed       | 16.8          |\n",
            "| total_timesteps    | 9216          |\n",
            "| value_loss         | 72.69602      |\n",
            "--------------------------------------\n",
            "--------------------------------------\n",
            "| approxkl           | 4.1655272e-05 |\n",
            "| clipfrac           | 0.0           |\n",
            "| explained_variance | 0.174         |\n",
            "| fps                | 604           |\n",
            "| n_updates          | 73            |\n",
            "| policy_entropy     | 0.58925396    |\n",
            "| policy_loss        | -0.0009944699 |\n",
            "| serial_timesteps   | 9344          |\n",
            "| time_elapsed       | 17            |\n",
            "| total_timesteps    | 9344          |\n",
            "| value_loss         | 51.10904      |\n",
            "--------------------------------------\n",
            "---------------------------------------\n",
            "| approxkl           | 2.23288e-05    |\n",
            "| clipfrac           | 0.0            |\n",
            "| explained_variance | 0.0112         |\n",
            "| fps                | 578            |\n",
            "| n_updates          | 74             |\n",
            "| policy_entropy     | 0.59132826     |\n",
            "| policy_loss        | -0.00037456292 |\n",
            "| serial_timesteps   | 9472           |\n",
            "| time_elapsed       | 17.2           |\n",
            "| total_timesteps    | 9472           |\n",
            "| value_loss         | 71.05795       |\n",
            "---------------------------------------\n",
            "---------------------------------------\n",
            "| approxkl           | 1.538508e-05   |\n",
            "| clipfrac           | 0.0            |\n",
            "| explained_variance | 0.0796         |\n",
            "| fps                | 603            |\n",
            "| n_updates          | 75             |\n",
            "| policy_entropy     | 0.6066601      |\n",
            "| policy_loss        | -0.00084793067 |\n",
            "| serial_timesteps   | 9600           |\n",
            "| time_elapsed       | 17.4           |\n",
            "| total_timesteps    | 9600           |\n",
            "| value_loss         | 43.263783      |\n",
            "---------------------------------------\n",
            "--------------------------------------\n",
            "| approxkl           | 8.7543485e-06 |\n",
            "| clipfrac           | 0.0           |\n",
            "| explained_variance | 0.0725        |\n",
            "| fps                | 553           |\n",
            "| n_updates          | 76            |\n",
            "| policy_entropy     | 0.6001155     |\n",
            "| policy_loss        | -0.0009044809 |\n",
            "| serial_timesteps   | 9728          |\n",
            "| time_elapsed       | 17.7          |\n",
            "| total_timesteps    | 9728          |\n",
            "| value_loss         | 50.44995      |\n",
            "--------------------------------------\n",
            "-------------------------------------\n",
            "| approxkl           | 9.148442e-06 |\n",
            "| clipfrac           | 0.0          |\n",
            "| explained_variance | 0.0649       |\n",
            "| fps                | 598          |\n",
            "| n_updates          | 77           |\n",
            "| policy_entropy     | 0.60690176   |\n",
            "| policy_loss        | 2.576015e-05 |\n",
            "| serial_timesteps   | 9856         |\n",
            "| time_elapsed       | 17.9         |\n",
            "| total_timesteps    | 9856         |\n",
            "| value_loss         | 69.97898     |\n",
            "-------------------------------------\n",
            "--------------------------------------\n",
            "| approxkl           | 1.2078786e-05 |\n",
            "| clipfrac           | 0.0           |\n",
            "| explained_variance | 0.0827        |\n",
            "| fps                | 583           |\n",
            "| n_updates          | 78            |\n",
            "| policy_entropy     | 0.60752034    |\n",
            "| policy_loss        | -0.000516098  |\n",
            "| serial_timesteps   | 9984          |\n",
            "| time_elapsed       | 18.1          |\n",
            "| total_timesteps    | 9984          |\n",
            "| value_loss         | 50.20848      |\n",
            "--------------------------------------\n"
          ],
          "name": "stdout"
        },
        {
          "output_type": "error",
          "ename": "NameError",
          "evalue": "ignored",
          "traceback": [
            "\u001b[0;31m---------------------------------------------------------------------------\u001b[0m",
            "\u001b[0;31mNameError\u001b[0m                                 Traceback (most recent call last)",
            "\u001b[0;32m<ipython-input-28-592d193e9314>\u001b[0m in \u001b[0;36m<module>\u001b[0;34m()\u001b[0m\n\u001b[1;32m      6\u001b[0m \u001b[0;32mfor\u001b[0m \u001b[0mi\u001b[0m \u001b[0;32min\u001b[0m \u001b[0mrange\u001b[0m\u001b[0;34m(\u001b[0m\u001b[0;36m1000\u001b[0m\u001b[0;34m)\u001b[0m\u001b[0;34m:\u001b[0m\u001b[0;34m\u001b[0m\u001b[0;34m\u001b[0m\u001b[0m\n\u001b[1;32m      7\u001b[0m   \u001b[0maction\u001b[0m\u001b[0;34m,\u001b[0m \u001b[0mestados\u001b[0m \u001b[0;34m=\u001b[0m \u001b[0mmodelo\u001b[0m\u001b[0;34m.\u001b[0m\u001b[0mpredict\u001b[0m\u001b[0;34m(\u001b[0m\u001b[0mobs\u001b[0m\u001b[0;34m,\u001b[0m \u001b[0mdeterministic\u001b[0m \u001b[0;34m=\u001b[0m \u001b[0;32mTrue\u001b[0m\u001b[0;34m)\u001b[0m\u001b[0;34m\u001b[0m\u001b[0;34m\u001b[0m\u001b[0m\n\u001b[0;32m----> 8\u001b[0;31m   \u001b[0mobs\u001b[0m\u001b[0;34m,\u001b[0m \u001b[0mreward\u001b[0m\u001b[0;34m,\u001b[0m \u001b[0mdone\u001b[0m\u001b[0;34m,\u001b[0m \u001b[0minfo\u001b[0m \u001b[0;34m=\u001b[0m \u001b[0mambiente\u001b[0m\u001b[0;34m.\u001b[0m\u001b[0mstep\u001b[0m\u001b[0;34m(\u001b[0m\u001b[0macao\u001b[0m\u001b[0;34m)\u001b[0m\u001b[0;34m\u001b[0m\u001b[0;34m\u001b[0m\u001b[0m\n\u001b[0m\u001b[1;32m      9\u001b[0m   \u001b[0mambiente\u001b[0m\u001b[0;34m.\u001b[0m\u001b[0mrender\u001b[0m\u001b[0;34m(\u001b[0m\u001b[0;34m)\u001b[0m\u001b[0;34m\u001b[0m\u001b[0;34m\u001b[0m\u001b[0m\n\u001b[1;32m     10\u001b[0m \u001b[0;34m\u001b[0m\u001b[0m\n",
            "\u001b[0;31mNameError\u001b[0m: name 'acao' is not defined"
          ]
        }
      ]
    },
    {
      "cell_type": "markdown",
      "metadata": {
        "id": "4efFdrQ7MBvl"
      },
      "source": [
        "We create a helper function to evaluate the agent:"
      ]
    },
    {
      "cell_type": "code",
      "metadata": {
        "id": "63M8mSKR-6Zt"
      },
      "source": [
        "def evaluate(model, num_episodes=100):\n",
        "    \"\"\"\n",
        "    Evaluate a RL agent\n",
        "    :param model: (BaseRLModel object) the RL Agent\n",
        "    :param num_episodes: (int) number of episodes to evaluate it\n",
        "    :return: (float) Mean reward for the last num_episodes\n",
        "    \"\"\"\n",
        "    # This function will only work for a single Environment\n",
        "    env = model.get_env()\n",
        "    all_episode_rewards = []\n",
        "    for i in range(num_episodes):\n",
        "        episode_rewards = []\n",
        "        done = False\n",
        "        obs = env.reset()\n",
        "        while not done:\n",
        "            # _states are only useful when using LSTM policies\n",
        "            action, _states = model.predict(obs)\n",
        "            # here, action, rewards and dones are arrays\n",
        "            # because we are using vectorized env\n",
        "            obs, reward, done, info = env.step(action)\n",
        "            episode_rewards.append(reward)\n",
        "\n",
        "        all_episode_rewards.append(sum(episode_rewards))\n",
        "\n",
        "    mean_episode_reward = np.mean(all_episode_rewards)\n",
        "    print(\"Mean reward:\", mean_episode_reward, \"Num episodes:\", num_episodes)\n",
        "\n",
        "    return mean_episode_reward"
      ],
      "execution_count": 10,
      "outputs": []
    },
    {
      "cell_type": "markdown",
      "metadata": {
        "id": "zjEVOIY8NVeK"
      },
      "source": [
        "Let's evaluate the un-trained agent, this should be a random agent."
      ]
    },
    {
      "cell_type": "code",
      "metadata": {
        "id": "xDHLMA6NFk95",
        "colab": {
          "base_uri": "https://localhost:8080/"
        },
        "outputId": "0fce2d4d-9531-4ad6-b762-3de564758b85"
      },
      "source": [
        "# Random Agent, before training\n",
        "mean_reward_before_train = evaluate(model, num_episodes=100)"
      ],
      "execution_count": 11,
      "outputs": [
        {
          "output_type": "stream",
          "text": [
            "Mean reward: 24.22 Num episodes: 100\n"
          ],
          "name": "stdout"
        }
      ]
    },
    {
      "cell_type": "markdown",
      "metadata": {
        "id": "QjjPxrwkYJ2i"
      },
      "source": [
        "Stable-Baselines already provides you with that helper:"
      ]
    },
    {
      "cell_type": "code",
      "metadata": {
        "id": "8z6K9YImYJEx"
      },
      "source": [
        "from stable_baselines.common.evaluation import evaluate_policy"
      ],
      "execution_count": 13,
      "outputs": []
    },
    {
      "cell_type": "code",
      "metadata": {
        "id": "4oPTHjxyZSOL",
        "colab": {
          "base_uri": "https://localhost:8080/"
        },
        "outputId": "ba676442-843a-42bd-bbc5-5d889e07592e"
      },
      "source": [
        "mean_reward, std_reward = evaluate_policy(model, env, n_eval_episodes=100)\n",
        "\n",
        "print(f\"mean_reward:{mean_reward:.2f} +/- {std_reward:.2f}\")"
      ],
      "execution_count": 14,
      "outputs": [
        {
          "output_type": "stream",
          "text": [
            "mean_reward:9.65 +/- 0.67\n"
          ],
          "name": "stdout"
        }
      ]
    },
    {
      "cell_type": "markdown",
      "metadata": {
        "id": "r5UoXTZPNdFE"
      },
      "source": [
        "## Train the agent and evaluate it"
      ]
    },
    {
      "cell_type": "code",
      "metadata": {
        "id": "e4cfSXIB-pTF",
        "colab": {
          "base_uri": "https://localhost:8080/"
        },
        "outputId": "1d6caa92-fd93-4682-966d-436ff4f51652"
      },
      "source": [
        "# Train the agent for 10000 steps\n",
        "model.learn(total_timesteps=10000)"
      ],
      "execution_count": 15,
      "outputs": [
        {
          "output_type": "execute_result",
          "data": {
            "text/plain": [
              "<stable_baselines.ppo2.ppo2.PPO2 at 0x7f22159eba58>"
            ]
          },
          "metadata": {
            "tags": []
          },
          "execution_count": 15
        }
      ]
    },
    {
      "cell_type": "code",
      "metadata": {
        "id": "ygl_gVmV_QP7",
        "colab": {
          "base_uri": "https://localhost:8080/"
        },
        "outputId": "02cccdc6-a853-4f13-f97a-82fb2c740943"
      },
      "source": [
        "# Evaluate the trained agent\n",
        "mean_reward, std_reward = evaluate_policy(model, env, n_eval_episodes=100)\n",
        "\n",
        "print(f\"mean_reward:{mean_reward:.2f} +/- {std_reward:.2f}\")"
      ],
      "execution_count": 16,
      "outputs": [
        {
          "output_type": "stream",
          "text": [
            "mean_reward:317.84 +/- 123.42\n"
          ],
          "name": "stdout"
        }
      ]
    },
    {
      "cell_type": "markdown",
      "metadata": {
        "id": "A00W6yY3NkHG"
      },
      "source": [
        "Apparently the training went well, the mean reward increased a lot ! "
      ]
    },
    {
      "cell_type": "markdown",
      "metadata": {
        "id": "xVm9QPNVwKXN"
      },
      "source": [
        "### Prepare video recording"
      ]
    },
    {
      "cell_type": "code",
      "metadata": {
        "id": "MPyfQxD5z26J"
      },
      "source": [
        "# Set up fake display; otherwise rendering will fail\n",
        "import os\n",
        "os.system(\"Xvfb :1 -screen 0 1024x768x24 &\")\n",
        "os.environ['DISPLAY'] = ':1'"
      ],
      "execution_count": 17,
      "outputs": []
    },
    {
      "cell_type": "code",
      "metadata": {
        "id": "SLzXxO8VMD6N"
      },
      "source": [
        "import base64\n",
        "from pathlib import Path\n",
        "\n",
        "from IPython import display as ipythondisplay\n",
        "\n",
        "def show_videos(video_path='', prefix=''):\n",
        "  \"\"\"\n",
        "  Taken from https://github.com/eleurent/highway-env\n",
        "\n",
        "  :param video_path: (str) Path to the folder containing videos\n",
        "  :param prefix: (str) Filter the video, showing only the only starting with this prefix\n",
        "  \"\"\"\n",
        "  html = []\n",
        "  for mp4 in Path(video_path).glob(\"{}*.mp4\".format(prefix)):\n",
        "      video_b64 = base64.b64encode(mp4.read_bytes())\n",
        "      html.append('''<video alt=\"{}\" autoplay \n",
        "                    loop controls style=\"height: 400px;\">\n",
        "                    <source src=\"data:video/mp4;base64,{}\" type=\"video/mp4\" />\n",
        "                </video>'''.format(mp4, video_b64.decode('ascii')))\n",
        "  ipythondisplay.display(ipythondisplay.HTML(data=\"<br>\".join(html)))"
      ],
      "execution_count": 18,
      "outputs": []
    },
    {
      "cell_type": "markdown",
      "metadata": {
        "id": "LTRNUfulOGaF"
      },
      "source": [
        "We will record a video using the [VecVideoRecorder](https://stable-baselines.readthedocs.io/en/master/guide/vec_envs.html#vecvideorecorder) wrapper, you will learn about those wrapper in the next notebook."
      ]
    },
    {
      "cell_type": "code",
      "metadata": {
        "id": "Trag9dQpOIhx"
      },
      "source": [
        "from stable_baselines.common.vec_env import VecVideoRecorder, DummyVecEnv\n",
        "\n",
        "def record_video(env_id, model, video_length=500, prefix='', video_folder='videos/'):\n",
        "  \"\"\"\n",
        "  :param env_id: (str)\n",
        "  :param model: (RL model)\n",
        "  :param video_length: (int)\n",
        "  :param prefix: (str)\n",
        "  :param video_folder: (str)\n",
        "  \"\"\"\n",
        "  eval_env = DummyVecEnv([lambda: gym.make(env_id)])\n",
        "  # Start the video at step=0 and record 500 steps\n",
        "  eval_env = VecVideoRecorder(eval_env, video_folder=video_folder,\n",
        "                              record_video_trigger=lambda step: step == 0, video_length=video_length,\n",
        "                              name_prefix=prefix)\n",
        "\n",
        "  obs = eval_env.reset()\n",
        "  for _ in range(video_length):\n",
        "    action, _ = model.predict(obs)\n",
        "    obs, _, _, _ = eval_env.step(action)\n",
        "\n",
        "  # Close the video recorder\n",
        "  eval_env.close()"
      ],
      "execution_count": 19,
      "outputs": []
    },
    {
      "cell_type": "markdown",
      "metadata": {
        "id": "KOObbeu5MMlR"
      },
      "source": [
        "### Visualize trained agent\n",
        "\n"
      ]
    },
    {
      "cell_type": "code",
      "metadata": {
        "id": "iATu7AiyMQW2",
        "colab": {
          "base_uri": "https://localhost:8080/"
        },
        "outputId": "7549ccc1-de15-48ba-f78a-3a760df7f146"
      },
      "source": [
        "record_video('CartPole-v1', model, video_length=500, prefix='ppo2-cartpole')"
      ],
      "execution_count": 20,
      "outputs": [
        {
          "output_type": "stream",
          "text": [
            "Saving video to  /content/videos/ppo2-cartpole-step-0-to-step-500.mp4\n"
          ],
          "name": "stdout"
        }
      ]
    },
    {
      "cell_type": "code",
      "metadata": {
        "id": "-n4i-fW3NojZ",
        "colab": {
          "base_uri": "https://localhost:8080/",
          "height": 421
        },
        "outputId": "7e06d4a2-e05d-4ea9-e2bd-056ddfff678d"
      },
      "source": [
        "show_videos('videos', prefix='ppo2')"
      ],
      "execution_count": 21,
      "outputs": [
        {
          "output_type": "display_data",
          "data": {
            "text/html": [
              "<video alt=\"videos/ppo2-cartpole-step-0-to-step-500.mp4\" autoplay \n",
              "                    loop controls style=\"height: 400px;\">\n",
              "                    <source src=\"data:video/mp4;base64,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\" type=\"video/mp4\" />\n",
              "                </video>"
            ],
            "text/plain": [
              "<IPython.core.display.HTML object>"
            ]
          },
          "metadata": {
            "tags": []
          }
        }
      ]
    },
    {
      "cell_type": "markdown",
      "metadata": {
        "id": "9Y8zg4V566qD"
      },
      "source": [
        "## Bonus: Train a RL Model in One Line\n",
        "\n",
        "The policy class to use will be inferred and the environment will be automatically created. This works because both are [registered](https://stable-baselines.readthedocs.io/en/master/guide/quickstart.html)."
      ]
    },
    {
      "cell_type": "code",
      "metadata": {
        "id": "iaOPfOrwWEP4",
        "colab": {
          "base_uri": "https://localhost:8080/"
        },
        "outputId": "52494abd-4d27-44c6-fd82-8b102c30fd1c"
      },
      "source": [
        "model = PPO2('MlpPolicy', \"CartPole-v1\", verbose=1).learn(1000)"
      ],
      "execution_count": 22,
      "outputs": [
        {
          "output_type": "stream",
          "text": [
            "Creating environment from the given name, wrapped in a DummyVecEnv.\n",
            "---------------------------------------\n",
            "| approxkl           | 6.8005334e-06  |\n",
            "| clipfrac           | 0.0            |\n",
            "| explained_variance | -0.00471       |\n",
            "| fps                | 299            |\n",
            "| n_updates          | 1              |\n",
            "| policy_entropy     | 0.6931432      |\n",
            "| policy_loss        | -4.1479943e-06 |\n",
            "| serial_timesteps   | 128            |\n",
            "| time_elapsed       | 2.43e-05       |\n",
            "| total_timesteps    | 128            |\n",
            "| value_loss         | 70.77068       |\n",
            "---------------------------------------\n",
            "--------------------------------------\n",
            "| approxkl           | 7.150585e-05  |\n",
            "| clipfrac           | 0.0           |\n",
            "| explained_variance | -0.000758     |\n",
            "| fps                | 496           |\n",
            "| n_updates          | 2             |\n",
            "| policy_entropy     | 0.6929811     |\n",
            "| policy_loss        | -0.0014476473 |\n",
            "| serial_timesteps   | 256           |\n",
            "| time_elapsed       | 0.428         |\n",
            "| total_timesteps    | 256           |\n",
            "| value_loss         | 28.482822     |\n",
            "--------------------------------------\n",
            "--------------------------------------\n",
            "| approxkl           | 9.658906e-05  |\n",
            "| clipfrac           | 0.0           |\n",
            "| explained_variance | 0.0278        |\n",
            "| fps                | 444           |\n",
            "| n_updates          | 3             |\n",
            "| policy_entropy     | 0.69240266    |\n",
            "| policy_loss        | -0.0020496345 |\n",
            "| serial_timesteps   | 384           |\n",
            "| time_elapsed       | 0.687         |\n",
            "| total_timesteps    | 384           |\n",
            "| value_loss         | 43.635597     |\n",
            "--------------------------------------\n",
            "--------------------------------------\n",
            "| approxkl           | 3.4916666e-05 |\n",
            "| clipfrac           | 0.0           |\n",
            "| explained_variance | -0.007        |\n",
            "| fps                | 502           |\n",
            "| n_updates          | 4             |\n",
            "| policy_entropy     | 0.69136244    |\n",
            "| policy_loss        | 0.00015025912 |\n",
            "| serial_timesteps   | 512           |\n",
            "| time_elapsed       | 0.975         |\n",
            "| total_timesteps    | 512           |\n",
            "| value_loss         | 32.71461      |\n",
            "--------------------------------------\n",
            "---------------------------------------\n",
            "| approxkl           | 2.385849e-05   |\n",
            "| clipfrac           | 0.0            |\n",
            "| explained_variance | 0.0191         |\n",
            "| fps                | 578            |\n",
            "| n_updates          | 5              |\n",
            "| policy_entropy     | 0.6908914      |\n",
            "| policy_loss        | -0.00047139695 |\n",
            "| serial_timesteps   | 640            |\n",
            "| time_elapsed       | 1.23           |\n",
            "| total_timesteps    | 640            |\n",
            "| value_loss         | 33.1496        |\n",
            "---------------------------------------\n",
            "---------------------------------------\n",
            "| approxkl           | 3.0596828e-05  |\n",
            "| clipfrac           | 0.0            |\n",
            "| explained_variance | 0.00787        |\n",
            "| fps                | 552            |\n",
            "| n_updates          | 6              |\n",
            "| policy_entropy     | 0.689819       |\n",
            "| policy_loss        | -0.00031021523 |\n",
            "| serial_timesteps   | 768            |\n",
            "| time_elapsed       | 1.45           |\n",
            "| total_timesteps    | 768            |\n",
            "| value_loss         | 33.71857       |\n",
            "---------------------------------------\n",
            "---------------------------------------\n",
            "| approxkl           | 4.780712e-05   |\n",
            "| clipfrac           | 0.0            |\n",
            "| explained_variance | 0.0111         |\n",
            "| fps                | 568            |\n",
            "| n_updates          | 7              |\n",
            "| policy_entropy     | 0.6863996      |\n",
            "| policy_loss        | -0.00071536703 |\n",
            "| serial_timesteps   | 896            |\n",
            "| time_elapsed       | 1.69           |\n",
            "| total_timesteps    | 896            |\n",
            "| value_loss         | 21.733385      |\n",
            "---------------------------------------\n"
          ],
          "name": "stdout"
        }
      ]
    },
    {
      "cell_type": "code",
      "metadata": {
        "id": "Se8SHBN17Fy4"
      },
      "source": [
        ""
      ],
      "execution_count": null,
      "outputs": []
    },
    {
      "cell_type": "markdown",
      "metadata": {
        "id": "WBf84jU05mgi"
      },
      "source": [
        "## Train a DQN agent\n",
        "\n",
        "In the previous example, we have used PPO, which one of the many algorithms provided by stable-baselines.\n",
        "\n",
        "In the next example, we are going train a [Deep Q-Network agent (DQN)](https://stable-baselines.readthedocs.io/en/master/modules/dqn.html), and try to see possible improvements provided by its extensions (Double-DQN, Dueling-DQN, Prioritized Experience Replay).\n",
        "\n",
        "The essential point of this section is to show you how simple it is to tweak hyperparameters.\n",
        "\n",
        "The main advantage of stable-baselines is that it provides a common interface to use the algorithms, so the code will be quite similar.\n",
        "\n",
        "\n",
        "DQN paper: https://arxiv.org/abs/1312.5602\n",
        "\n",
        "Dueling DQN: https://arxiv.org/abs/1511.06581\n",
        "\n",
        "Double-Q Learning: https://arxiv.org/abs/1509.06461\n",
        "\n",
        "Prioritized Experience Replay: https://arxiv.org/abs/1511.05952"
      ]
    },
    {
      "cell_type": "markdown",
      "metadata": {
        "id": "kikNl-tT92Ae"
      },
      "source": [
        "### Vanilla DQN: DQN without extensions"
      ]
    },
    {
      "cell_type": "code",
      "metadata": {
        "id": "tdLdYABz8TJx"
      },
      "source": [
        "# Same as before we instantiate the agent along with the environment\n",
        "from stable_baselines import DQN\n",
        "\n",
        "# Deactivate all the DQN extensions to have the original version\n",
        "# In practice, it is recommend to have them activated\n",
        "kwargs = {'double_q': False, 'prioritized_replay': False, 'policy_kwargs': dict(dueling=False)}\n",
        "\n",
        "# Note that the MlpPolicy of DQN is different from the one of PPO\n",
        "# but stable-baselines handles that automatically if you pass a string\n",
        "dqn_model = DQN('MlpPolicy', 'CartPole-v1', verbose=1, **kwargs)"
      ],
      "execution_count": null,
      "outputs": []
    },
    {
      "cell_type": "code",
      "metadata": {
        "id": "E4A_IOZ_9fzW",
        "colab": {
          "base_uri": "https://localhost:8080/",
          "height": 35
        },
        "outputId": "b682bbf9-5de9-40d2-f9ff-b031598c5dd2"
      },
      "source": [
        "# Random Agent, before training\n",
        "mean_reward_before_train = evaluate(dqn_model, num_episodes=100)"
      ],
      "execution_count": null,
      "outputs": [
        {
          "output_type": "stream",
          "text": [
            "Mean reward: 9.29 Num episodes: 100\n"
          ],
          "name": "stdout"
        }
      ]
    },
    {
      "cell_type": "code",
      "metadata": {
        "id": "4wbuvAKk9spH"
      },
      "source": [
        "# Train the agent for 10000 steps\n",
        "dqn_model.learn(total_timesteps=10000, log_interval=10)"
      ],
      "execution_count": null,
      "outputs": []
    },
    {
      "cell_type": "code",
      "metadata": {
        "id": "QDQTdpYv9xJN",
        "colab": {
          "base_uri": "https://localhost:8080/",
          "height": 35
        },
        "outputId": "363f5ed3-5bb1-4ce2-e218-10018818ecc9"
      },
      "source": [
        "# Evaluate the trained agent\n",
        "mean_reward = evaluate(dqn_model, num_episodes=100)"
      ],
      "execution_count": null,
      "outputs": [
        {
          "output_type": "stream",
          "text": [
            "Mean reward: 130.02 Num episodes: 100\n"
          ],
          "name": "stdout"
        }
      ]
    },
    {
      "cell_type": "markdown",
      "metadata": {
        "id": "GFJvqsMl96l7"
      },
      "source": [
        "### DQN + Prioritized Replay"
      ]
    },
    {
      "cell_type": "code",
      "metadata": {
        "id": "roCSjGu69-lA"
      },
      "source": [
        "# Activate only the prioritized replay\n",
        "kwargs = {'double_q': False, 'prioritized_replay': True, 'policy_kwargs': dict(dueling=False)}\n",
        "\n",
        "dqn_per_model = DQN('MlpPolicy', 'CartPole-v1', verbose=1, **kwargs)"
      ],
      "execution_count": null,
      "outputs": []
    },
    {
      "cell_type": "code",
      "metadata": {
        "id": "DLnLhos5-lRm"
      },
      "source": [
        "dqn_per_model.learn(total_timesteps=10000, log_interval=10)"
      ],
      "execution_count": null,
      "outputs": []
    },
    {
      "cell_type": "code",
      "metadata": {
        "id": "xQjF5S_g-mFN",
        "colab": {
          "base_uri": "https://localhost:8080/",
          "height": 35
        },
        "outputId": "4ce14e23-8f2b-40c1-90e1-b333d36f6997"
      },
      "source": [
        "# Evaluate the trained agent\n",
        "mean_reward = evaluate(dqn_per_model, num_episodes=100)"
      ],
      "execution_count": null,
      "outputs": [
        {
          "output_type": "stream",
          "text": [
            "Mean reward: 110.18 Num episodes: 100\n"
          ],
          "name": "stdout"
        }
      ]
    },
    {
      "cell_type": "markdown",
      "metadata": {
        "id": "Skny8MUN9_Ky"
      },
      "source": [
        "### DQN + Prioritized Experience Replay + Double Q-Learning + Dueling"
      ]
    },
    {
      "cell_type": "code",
      "metadata": {
        "id": "fDCys-Vg-yYR",
        "colab": {
          "base_uri": "https://localhost:8080/",
          "height": 35
        },
        "outputId": "a3bc7511-d247-47ca-952e-53e95a1597a6"
      },
      "source": [
        "# Activate all extensions\n",
        "kwargs = {'double_q': True, 'prioritized_replay': True, 'policy_kwargs': dict(dueling=True)}\n",
        "\n",
        "dqn_full_model = DQN('MlpPolicy', 'CartPole-v1', verbose=1, **kwargs)"
      ],
      "execution_count": null,
      "outputs": [
        {
          "output_type": "stream",
          "text": [
            "Creating environment from the given name, wrapped in a DummyVecEnv.\n"
          ],
          "name": "stdout"
        }
      ]
    },
    {
      "cell_type": "code",
      "metadata": {
        "id": "koHGB-VN-81O"
      },
      "source": [
        "dqn_full_model.learn(total_timesteps=10000, log_interval=10)"
      ],
      "execution_count": null,
      "outputs": []
    },
    {
      "cell_type": "code",
      "metadata": {
        "id": "6cHRULdp--nN",
        "colab": {
          "base_uri": "https://localhost:8080/",
          "height": 35
        },
        "outputId": "5b2a3471-f6fe-4594-8f91-e4c62505a07a"
      },
      "source": [
        "mean_reward = evaluate(dqn_per_model, num_episodes=100)"
      ],
      "execution_count": null,
      "outputs": [
        {
          "output_type": "stream",
          "text": [
            "Mean reward: 110.02 Num episodes: 100\n"
          ],
          "name": "stdout"
        }
      ]
    },
    {
      "cell_type": "markdown",
      "metadata": {
        "id": "n4Q9dR3UC5Zb"
      },
      "source": [
        "In this particular example, the extensions does not seem to give any improvement compared to the simple DQN version.\n",
        "They are several reasons for that:\n",
        "\n",
        "1. `CartPole-v1` is a pretty simple environment\n",
        "2. We trained DQN for very few timesteps, not enough to see any difference\n",
        "3. The default hyperparameters for DQN are tuned for atari games, where the number of training timesteps is much larger (10^6) and input observations are images\n",
        "4. We have only compared one random seed per experiment"
      ]
    },
    {
      "cell_type": "markdown",
      "metadata": {
        "id": "FrI6f5fWnzp-"
      },
      "source": [
        "## Conclusion\n",
        "\n",
        "In this notebook we have seen:\n",
        "- how to define and train a RL model using stable baselines, it takes only one line of code ;)\n",
        "- how to use different RL algorithms and change some hyperparameters"
      ]
    },
    {
      "cell_type": "code",
      "metadata": {
        "id": "73ji3gbNDkf7"
      },
      "source": [
        ""
      ],
      "execution_count": null,
      "outputs": []
    }
  ]
}