{
  "nbformat": 4,
  "nbformat_minor": 0,
  "metadata": {
    "colab": {
      "name": "MonteCarlo.ipynb",
      "provenance": [],
      "collapsed_sections": [
        "-_hGzT7rzbwd"
      ],
      "include_colab_link": true
    },
    "kernelspec": {
      "name": "python3",
      "display_name": "Python 3"
    }
  },
  "cells": [
    {
      "cell_type": "markdown",
      "metadata": {
        "id": "view-in-github",
        "colab_type": "text"
      },
      "source": [
        "<a href=\"https://colab.research.google.com/github/mariaelisagmt/CartPole/blob/main/CartPole.ipynb\" target=\"_parent\"><img src=\"https://colab.research.google.com/assets/colab-badge.svg\" alt=\"Open In Colab\"/></a>"
      ]
    },
    {
      "cell_type": "markdown",
      "metadata": {
        "id": "X262RwXEi2lp"
      },
      "source": [
        "# CartPole"
      ]
    },
    {
      "cell_type": "markdown",
      "metadata": {
        "id": "p8wCZL5HaxRL"
      },
      "source": [
        "Instalando do recursos e bibliotecas necessárias."
      ]
    },
    {
      "cell_type": "code",
      "metadata": {
        "id": "KOlLag0Wwg24"
      },
      "source": [
        "!apt-get install -y xvfb python-opengl > /dev/null 2>&1"
      ],
      "execution_count": 3,
      "outputs": []
    },
    {
      "cell_type": "code",
      "metadata": {
        "id": "O_jSkAAq2AjU"
      },
      "source": [
        "!pip install gym pyvirtualdisplay > /dev/null 2>&1"
      ],
      "execution_count": 4,
      "outputs": []
    },
    {
      "cell_type": "code",
      "metadata": {
        "id": "RlI8ygD_2Tnw"
      },
      "source": [
        "import gym\r\n",
        "import time\r\n",
        "import numpy as np\r\n",
        "import matplotlib.pyplot as plt\r\n",
        "from IPython import display as ipythondisplay"
      ],
      "execution_count": 5,
      "outputs": []
    },
    {
      "cell_type": "markdown",
      "metadata": {
        "id": "BqN2oseqiwpT"
      },
      "source": [
        "Definições e configurações de tela."
      ]
    },
    {
      "cell_type": "code",
      "metadata": {
        "colab": {
          "base_uri": "https://localhost:8080/"
        },
        "id": "c5DyOfdL2WEm",
        "outputId": "f554e5de-cfb8-485f-ae47-abd3f7bce8a7"
      },
      "source": [
        "from pyvirtualdisplay import Display\r\n",
        "display = Display(visible=0, size=(400, 300))\r\n",
        "display.start()"
      ],
      "execution_count": 6,
      "outputs": [
        {
          "output_type": "execute_result",
          "data": {
            "text/plain": [
              "<pyvirtualdisplay.display.Display at 0x7efbf36a5a20>"
            ]
          },
          "metadata": {
            "tags": []
          },
          "execution_count": 6
        }
      ]
    },
    {
      "cell_type": "markdown",
      "metadata": {
        "id": "NhbLgm8ZvJbo"
      },
      "source": [
        "#Funções do CartPole\r\n",
        "\r\n",
        "A função **step** retorna quatro valores importantes?\r\n",
        "\r\n",
        "*   *observation*: um objeto específico do ambiente que representa sua observação do ambiente. \r\n",
        "*   *reward*: quantidade de recompensa alcançada pela ação anterior. \r\n",
        "*   *done*: variavél booleana que indica o fim de um episódio.\r\n",
        "*   *info*: informações de diagnóstico úteis para depuração.\r\n",
        "\r\n",
        "#Ações\r\n",
        "É uma implementação de um agente que escolhe uma ação no decorrer do tempo e o ambiente reotrna uma observação e uma recompensa.\r\n",
        "Utilizando o ambiente **CartPole-v0** do **OpenAI** da **Gym**\r\n",
        "\r\n",
        "\r\n",
        "\r\n",
        "\r\n",
        "\r\n",
        "\r\n"
      ]
    },
    {
      "cell_type": "code",
      "metadata": {
        "colab": {
          "base_uri": "https://localhost:8080/",
          "height": 269
        },
        "id": "U7W9d9xL2af0",
        "outputId": "30ad9958-e28a-49de-98ee-c267a0316c58"
      },
      "source": [
        "for i_episode in range(1):\n",
        "  env = gym.make(\"CartPole-v0\") #Instancia o ambiente\n",
        "  env.reset()\n",
        "  prev_screen = env.render(mode='rgb_array') #Renderizacao da tela\n",
        "  plt.imshow(prev_screen) \n",
        "\n",
        "  for i in range(20):\n",
        "    action = env.action_space.sample() #Definindo o conjunto de acoes e observacoes validas (Discrete)\n",
        "    #action = env.observation_space.sample() #Definindo o conjunto de acoes e observaoes validas (Box)\n",
        "    obs, reward, done, info = env.step(action) #Executa as acoes\n",
        "    screen = env.render(mode='rgb_array') #Renderiza na tela\n",
        "    \n",
        "    plt.imshow(screen)\n",
        "    ipythondisplay.clear_output(wait=True)\n",
        "    ipythondisplay.display(plt.gcf())\n",
        "\n",
        "    if done: #Define o fim de um episódio\n",
        "      break\n",
        "    \n",
        "ipythondisplay.clear_output(wait=True)\n",
        "env.close()\n"
      ],
      "execution_count": 7,
      "outputs": [
        {
          "output_type": "display_data",
          "data": {
            "image/png": "[encoded data removed]",
            "text/plain": [
              "<Figure size 432x288 with 1 Axes>"
            ]
          },
          "metadata": {
            "tags": [],
            "needs_background": "light"
          }
        }
      ]
    }
  ]
}