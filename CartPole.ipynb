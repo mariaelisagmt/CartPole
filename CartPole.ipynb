{
  "nbformat": 4,
  "nbformat_minor": 0,
  "metadata": {
    "colab": {
      "name": "CartPole.ipynb",
      "provenance": [],
      "collapsed_sections": [],
      "include_colab_link": true
    },
    "kernelspec": {
      "name": "python3",
      "display_name": "Python 3"
    }
  },
  "cells": [
    {
      "cell_type": "markdown",
      "metadata": {
        "id": "view-in-github",
        "colab_type": "text"
      },
      "source": [
        "<a href=\"https://colab.research.google.com/github/mariaelisagmt/CartPole/blob/main/CartPole.ipynb\" target=\"_parent\"><img src=\"https://colab.research.google.com/assets/colab-badge.svg\" alt=\"Open In Colab\"/></a>"
      ]
    },
    {
      "cell_type": "markdown",
      "metadata": {
        "id": "X262RwXEi2lp"
      },
      "source": [
        "# CartPole\r\n",
        "É um sistema que representa um pêndulo invertido. \r\n",
        "O agente é um carrinho que se moveem um trilho sem atrito de uma dimensão, da esquerda ou para a direita, no carrinho uma estaca pode se mover angularmente em sentido horário e anti-horário.\r\n",
        "O objetivo do problema é colocar o carrinho em movimento de modo que o pêndulo permaneça ereta.\r\n",
        "\r\n",
        "#Variáveis\r\n",
        "*   Posição p do carrinho no trilho;\r\n",
        "*   A velocidade v do carrinho;\r\n",
        "*   O ângulo a que a estaca forma com o eixo vertical do carrinho;\r\n",
        "*   A velocidade angular va de movimento da estaca.\r\n",
        "\r\n",
        "O ambiente se caracteriza como estocástico, pois não é possível determinar o resultado a partir de um estado atual, e episódico, pois o agente pode tomar qualquer uma das ações disponíveis a qualquer momento, sem que uma ação afete as demais.\r\n",
        "\r\n",
        "\r\n",
        "\r\n",
        "\r\n"
      ]
    },
    {
      "cell_type": "markdown",
      "metadata": {
        "id": "p8wCZL5HaxRL"
      },
      "source": [
        "#Código\r\n",
        "Instalando do recursos e bibliotecas necessárias."
      ]
    },
    {
      "cell_type": "code",
      "metadata": {
        "id": "KOlLag0Wwg24"
      },
      "source": [
        "!apt-get install -y xvfb python-opengl > /dev/null 2>&1"
      ],
      "execution_count": null,
      "outputs": []
    },
    {
      "cell_type": "code",
      "metadata": {
        "id": "O_jSkAAq2AjU"
      },
      "source": [
        "!pip install gym pyvirtualdisplay > /dev/null 2>&1"
      ],
      "execution_count": null,
      "outputs": []
    },
    {
      "cell_type": "code",
      "metadata": {
        "id": "5Drhb3bCKbkT",
        "colab": {
          "base_uri": "https://localhost:8080/"
        },
        "outputId": "bddcf2eb-05fc-4e60-90b7-7cd443e530bf"
      },
      "source": [
        "!pip install python-math"
      ],
      "execution_count": null,
      "outputs": [
        {
          "output_type": "stream",
          "text": [
            "Collecting python-math\n",
            "  Downloading https://files.pythonhosted.org/packages/ff/8c/60c13be29a2f2e74c0313f2e62c7f751c944fe54b917afa5f88144e71a66/python_math-0.0.1-py3-none-any.whl\n",
            "Installing collected packages: python-math\n",
            "Successfully installed python-math-0.0.1\n"
          ],
          "name": "stdout"
        }
      ]
    },
    {
      "cell_type": "code",
      "metadata": {
        "id": "RlI8ygD_2Tnw"
      },
      "source": [
        "import gym\r\n",
        "import time\r\n",
        "import numpy as np\r\n",
        "import matplotlib.pyplot as plt\r\n",
        "from IPython import display as ipythondisplay"
      ],
      "execution_count": null,
      "outputs": []
    },
    {
      "cell_type": "markdown",
      "metadata": {
        "id": "BqN2oseqiwpT"
      },
      "source": [
        "Definições e configurações de tela."
      ]
    },
    {
      "cell_type": "code",
      "metadata": {
        "colab": {
          "base_uri": "https://localhost:8080/"
        },
        "id": "c5DyOfdL2WEm",
        "outputId": "999ce55a-9912-4c3d-9d1f-44c3c772d6ad"
      },
      "source": [
        "from pyvirtualdisplay import Display\r\n",
        "tela = Display(visible=0, size=(400, 300))\r\n",
        "tela.start()"
      ],
      "execution_count": null,
      "outputs": [
        {
          "output_type": "execute_result",
          "data": {
            "text/plain": [
              "<pyvirtualdisplay.display.Display at 0x7fed9be89a58>"
            ]
          },
          "metadata": {
            "tags": []
          },
          "execution_count": 5
        }
      ]
    },
    {
      "cell_type": "markdown",
      "metadata": {
        "id": "NhbLgm8ZvJbo"
      },
      "source": [
        "\r\n",
        "\r\n",
        "#Ações\r\n",
        "É uma implementação de um agente que escolhe uma ação no decorrer do tempo e o ambiente reotrna uma observação e uma recompensa.\r\n",
        "Utilizando o ambiente **CartPole-v0** do **OpenAI** da **Gym**.\r\n",
        "\r\n",
        "Um estado desse sistema é terminal nas seguintes situações:\r\n",
        "*   Se o centro do carrinho atinge alguma borda do ambiente; (Sucesso)\r\n",
        "*   Se a quantidade máxima de episódios definida é atingida; (Sucesso)\r\n",
        "*   Se o módulo do ângulo a é maior que 12 graus (o que representa, na prática, a queda da estaca); (Fracasso)\r\n",
        "\r\n",
        "#Recompensas\r\n",
        "O ambiente a cada ação retorna uma recompensa que equivale ao valor 1, caso a ação resulte no (1) ou (2) o ambiente retornara um valor true na variável Done. Caso a ação faça a estaca cair a recompensa será zero.\r\n",
        "\r\n",
        "#Funções\r\n",
        "A função **step** retorna quatro valores importantes?\r\n",
        "\r\n",
        "*   *observation*: um objeto específico do ambiente que representa sua observação do ambiente. \r\n",
        "*   *reward*: quantidade de recompensa alcançada pela ação anterior. \r\n",
        "*   *done*: variavél booleana que indica o fim de um episódio.\r\n",
        "*   *info*: informações de diagnóstico úteis para depuração.\r\n"
      ]
    },
    {
      "cell_type": "code",
      "metadata": {
        "id": "U7W9d9xL2af0",
        "colab": {
          "base_uri": "https://localhost:8080/",
          "height": 269
        },
        "outputId": "cfbced5c-cee9-4296-e13a-177840aaaad8"
      },
      "source": [
        "for episodios in range(2):\n",
        "  ambiente = gym.make(\"CartPole-v0\") #Instancia o ambiente\n",
        "  ambiente.reset()\n",
        "  previa_tela = ambiente.render(mode='rgb_array') #Renderizacao da tela\n",
        "  plt.imshow(previa_tela) \n",
        "\n",
        "  for i in range(100):\n",
        "    acao = ambiente.action_space.sample() #Definindo o conjunto de acoes e observacoes validas (Discrete)\n",
        "    #action = ambiente.observation_space.sample() #Definindo o conjunto de acoes e observaoes validas (Box)\n",
        "    obs, reward, done, info = ambiente.step(acao) #Executa as acoes\n",
        "    screen = ambiente.render(mode='rgb_array') #Renderiza na tela\n",
        "    \n",
        "    plt.imshow(screen)\n",
        "    ipythondisplay.clear_output(wait=True)\n",
        "    ipythondisplay.display(plt.gcf())\n",
        "\n",
        "    if done: #Define o fim de um episódio\n",
        "      break\n",
        "    \n",
        "ipythondisplay.clear_output(wait=True)\n",
        "ambiente.close()"
      ],
      "execution_count": null,
      "outputs": [
        {
          "output_type": "display_data",
          "data": {
            "image/png": "[encoded data removed]",
            "text/plain": [
              "<Figure size 432x288 with 1 Axes>"
            ]
          },
          "metadata": {
            "tags": [],
            "needs_background": "light"
          }
        }
      ]
    },
    {
      "cell_type": "markdown",
      "metadata": {
        "id": "ZXrTweqEEbYF"
      },
      "source": [
        "#Discretização\r\n",
        "Criamos uma **classe Discretizar**, que recebe como parâmetros o limite inferior, o limite superior e a quantidade de **bins** a serem criados. \r\n",
        "\r\n",
        "Cada uma das variáveis é discretizada e usada para constituir um estado válido a partir da **função gen_state**.\r\n",
        "\r\n",
        "Discretizamos um intervalo que vai de **lower** até **high** em **nbins**, todos valores receberam um mesmo valor de estado. "
      ]
    },
    {
      "cell_type": "code",
      "metadata": {
        "id": "tTTP2IRwEppq"
      },
      "source": [
        "class Discretizar:\r\n",
        "    def __init__(self,nbins,lower,high):\r\n",
        "        self.nbins = nbins\r\n",
        "        self.high = high\r\n",
        "        self.lower = lower\r\n",
        "        self.thresholds = np.array([])\r\n",
        "        self.fit()\r\n",
        "\r\n",
        "    def fit(self):\r\n",
        "        step=(self.high-self.lower)/self.nbins \r\n",
        "        self.thresholds = np.arange(self.lower, self.high, step) \r\n",
        "        \r\n",
        "    def transform(self,x):\r\n",
        "        return np.digitize(x,self.thresholds)"
      ],
      "execution_count": null,
      "outputs": []
    },
    {
      "cell_type": "markdown",
      "metadata": {
        "id": "ZStj5e6EI29I"
      },
      "source": [
        "Discretização das variáveis posição, velocidade do cartpole, ângulo do pêndulo e velocidade do ângulo.\r\n",
        "\r\n",
        "Limites\r\n",
        "*   Posição = [-4.8, 4.8]\r\n",
        "*   Ângulo = [-24, 24] graus\r\n",
        "*   Velocidade = [-100, 100]\r\n",
        "*   Velocidade Angular = [-10, 10]\r\n",
        "\r\n",
        "Discretização de 1000 bins para p, v e a, e de 100 bins para va.\r\n"
      ]
    },
    {
      "cell_type": "code",
      "metadata": {
        "id": "tb7AydKSFS6K"
      },
      "source": [
        "posicao_discreta = Discretizar(nbins = 1000 ,\r\n",
        "                               lower = ambiente.observation_space.low[0], \r\n",
        "                               high = ambiente.observation_space.high[0])\r\n",
        "\r\n",
        "velocidade_discreta = Discretizar(nbins = 1000, \r\n",
        "                                  lower = -100 , \r\n",
        "                                  high = 100)\r\n",
        "\r\n",
        "angulo_discreto = Discretizar(nbins = 1000 ,\r\n",
        "                              lower = ambiente.observation_space.low[2], \r\n",
        "                              high = ambiente.observation_space.high[2])\r\n",
        "\r\n",
        "velocidade_angular_discreta = Discretizar(nbins = 100, \r\n",
        "                                         lower = -10 , \r\n",
        "                                         high = 10) \r\n"
      ],
      "execution_count": null,
      "outputs": []
    },
    {
      "cell_type": "markdown",
      "metadata": {
        "id": "eK249OcXIZkP"
      },
      "source": [
        "Aplicação das variáveis discretas no ambiente a partir da **função gen_state()**"
      ]
    },
    {
      "cell_type": "code",
      "metadata": {
        "colab": {
          "base_uri": "https://localhost:8080/"
        },
        "id": "0gpgJ8U3HvJK",
        "outputId": "4fc19d7f-ccb5-4f10-d13a-635a9ce24cf3"
      },
      "source": [
        "#Função\r\n",
        "gen_state = lambda  p, v, a, va : ( posicao_discreta.transform(p), \r\n",
        "                                    velocidade_discreta.transform(v), \r\n",
        "                                    angulo_discreto.transform(a), \r\n",
        "                                    velocidade_angular_discreta.transform(va) )\r\n",
        "\r\n",
        "#Reinicia o ambiente\r\n",
        "ambiente.reset()\r\n",
        "\r\n",
        "#Aplicação\r\n",
        "for i in range(20):\r\n",
        "    acoes = ambiente.action_space.sample() #0 ir para trás, 1 ir pra frente\r\n",
        "    obs, reward, done, info = ambiente.step(acoes)\r\n",
        "    p, v, a, va = obs\r\n",
        "    print(gen_state(p,v,a,va)) #Discretiza e gera estados válidos"
      ],
      "execution_count": null,
      "outputs": [
        {
          "output_type": "stream",
          "text": [
            "(500, 501, 560, 49)\n",
            "(500, 500, 554, 51)\n",
            "(500, 501, 556, 49)\n",
            "(501, 502, 551, 48)\n",
            "(501, 501, 539, 50)\n",
            "(502, 502, 534, 48)\n",
            "(503, 501, 523, 50)\n",
            "(503, 500, 519, 51)\n",
            "(503, 499, 522, 53)\n",
            "(502, 500, 532, 51)\n",
            "(502, 499, 536, 53)\n",
            "(502, 500, 546, 51)\n",
            "(502, 501, 550, 50)\n",
            "(502, 502, 547, 48)\n",
            "(503, 503, 537, 47)\n",
            "(504, 502, 521, 49)\n",
            "(505, 503, 512, 47)\n",
            "(506, 504, 496, 46)\n",
            "(508, 503, 473, 47)\n",
            "(509, 504, 457, 46)\n"
          ],
          "name": "stdout"
        }
      ]
    },
    {
      "cell_type": "markdown",
      "metadata": {
        "id": "Pz-bcC8-Kg0Q"
      },
      "source": [
        "#Monte Carlo Control\r\n",
        "O aprendizado por reforço pelo método de Monte Carlo consiste em que o agente, após completar um episódio inteiro, seja informado sobre o valor da recompensa obtida.\r\n",
        "O state value é aprendido a partir de uma média de N amostras de episódios que foram iniciados em um mesmo estado. "
      ]
    },
    {
      "cell_type": "code",
      "metadata": {
        "id": "UzRtPPJsKsXK"
      },
      "source": [
        "class MonteCarlo():\r\n",
        "    def __init__(self, gamma = 0.9, n_episodios = 1000,n0 = 1):\r\n",
        "        self.n_episodios = n_episodios #Numero de episodios\r\n",
        "        self.gamma = gamma #Gama - relacionado as recompensas\r\n",
        "        self.n0 = n0\r\n",
        "        self.n_visitas = {}\r\n",
        "        self.Q = {}\r\n",
        "        self.Q_opt = {}\r\n",
        "        self.states = set()\r\n",
        "        self.policy = {} #Politica - \r\n",
        "        self.values = []\r\n",
        "        self.sample_state = (498, 501, 516, 51)\r\n",
        "      \r\n",
        "    def main(self):\r\n",
        "        for  i in range(1, self.n_episodios + 1):\r\n",
        "            #Reseta o ambiente\r\n",
        "            ambiente.reset()\r\n",
        "            #Inicializamos com um estado\r\n",
        "            obs = ambiente.step(ambiente.action_space.sample())[0]\r\n",
        "            p, v, a, va = obs\r\n",
        "            #Dicretiza e gera estados válidos\r\n",
        "            init_state = gen_state(p,v,a,va) #estado inicial\r\n",
        "            \r\n",
        "            self.update_Q(init_state)\r\n",
        "            self.values.append( max( self.Q_opt.get(self.sample_state, {}).get((1), 0), \r\n",
        "                                     self.Q_opt.get(self.sample_state, {}).get((0), 0)) )\r\n",
        "        self.improvement_policy()\r\n",
        "      \r\n",
        "  \r\n",
        "    def update_Q(self, old_state):\r\n",
        "        #Utilizamos umas estrutura recursiva para atualizar Q\r\n",
        "        self.states.add(old_state)\r\n",
        "        acoes = (ambiente.action_space.sample())\r\n",
        "        obs, reward, done, info = ambiente.step(acoes) \r\n",
        "        p, v, a, va = obs\r\n",
        "        new_state = gen_state(p,v,a,va) #Discretiza e gera estados válidos\r\n",
        "        \r\n",
        "        Gt = 0\r\n",
        "        #Se deu errado\r\n",
        "        if(done == False):\r\n",
        "            Gt = self.gamma * self.update_Q(new_state)\r\n",
        "        #Atualizacao dos pontos\r\n",
        "        Gt = Gt + reward\r\n",
        "        #Formula\r\n",
        "        self.n_visitas[(old_state, acoes)] = self.n_visitas.get((old_state, acoes),0) + 1 #Para casa visita acrescenta 1\r\n",
        "        self.Q[(old_state, acoes)] = self.Q.get((old_state, acoes),0) + (Gt-self.Q.get((old_state, acoes),0)) / self.n_visitas[(old_state, acoes)]\r\n",
        "    \r\n",
        "        #Rescreve Q para Q_opt para melhor acesso\r\n",
        "        if(self.Q_opt.get(old_state)):\r\n",
        "            self.Q_opt.get(old_state).update({acoes : self.Q[(old_state, acoes)]})\r\n",
        "        else:\r\n",
        "            self.Q_opt[old_state] = {acoes:self.Q[(old_state, acoes)]} \r\n",
        "        return Gt\r\n",
        "    \r\n",
        "    #Exploration x exploitation\r\n",
        "    def improvement_policy(self):\r\n",
        "        for st in self.states:\r\n",
        "            n = self.n_visitas.get((st,0),0) + self.n_visitas.get((st,1),0) #Número de vezes que o estado foi visitado\r\n",
        "            ek = self.n0 / (self.n0+n)\r\n",
        "            maximo = np.max(self.Q_opt[st].values())\r\n",
        "            \r\n",
        "            for a in self.Q_opt[st].keys():\r\n",
        "                if(maximo == self.Q_opt[st][a]):\r\n",
        "                    self.policy[(st,a)] = ek / 2+1-ek\r\n",
        "                else:\r\n",
        "                    self.policy[(st,a)] = ek/2"
      ],
      "execution_count": null,
      "outputs": []
    },
    {
      "cell_type": "code",
      "metadata": {
        "id": "y5zyk63SLD98",
        "colab": {
          "base_uri": "https://localhost:8080/"
        },
        "outputId": "f9abe91c-5f57-4d6f-e467-12d32455401a"
      },
      "source": [
        "#Variamos o número de episodes para MC\r\n",
        "mcs = []\r\n",
        "\r\n",
        "for i in range(1,5):\r\n",
        "    start_time = time.time()\r\n",
        "    mc = MonteCarlo(n_episodios = 1000)\r\n",
        "    mc.main()\r\n",
        "    mcs.append(mc)\r\n",
        "    end_time = time.time()\r\n",
        "    total_time = end_time - start_time\r\n",
        "    print(\"Tempo total de execução para 10^{} episódios: {} segundos\".format(i, total_time))"
      ],
      "execution_count": null,
      "outputs": [
        {
          "output_type": "stream",
          "text": [
            "Tempo total de execução para 10^1 episódios: 0.1720888614654541 segundos\n",
            "Tempo total de execução para 10^2 episódios: 0.18381571769714355 segundos\n",
            "Tempo total de execução para 10^3 episódios: 0.18249893188476562 segundos\n",
            "Tempo total de execução para 10^4 episódios: 0.20370793342590332 segundos\n"
          ],
          "name": "stdout"
        }
      ]
    },
    {
      "cell_type": "markdown",
      "metadata": {
        "id": "Kf5YK4_a6YIK"
      },
      "source": [
        "Calcula a média de quantas ações o pêndulo faz antes de cair."
      ]
    },
    {
      "cell_type": "code",
      "metadata": {
        "id": "fSZlzmhf6NtO"
      },
      "source": [
        "def mean_actions(Q, n = 100):\r\n",
        "    mean=0\r\n",
        "    for i in range(n):\r\n",
        "        ambiente.reset()\r\n",
        "        obs, reward, done = ambiente.step(ambiente.action_space.sample())[:3]\r\n",
        "        p, v, a, va = obs\r\n",
        "        state = gen_state(p,v,a,va) #Discretiza e gera estados válidos\r\n",
        "        k = 0\r\n",
        "        #Se não tiver sucesso\r\n",
        "        while(done == False):\r\n",
        "            #Se caso o estado não for alcançado, ele escolhe uma ação randomica\r\n",
        "            s1 = Q.get((state,(1)), ambiente.action_space.sample()) \r\n",
        "            s2 = Q.get((state,(0)), ambiente.action_space.sample())\r\n",
        "            acoes = 1 if(s1>s2) else 0\r\n",
        "            obs, reward, done, info = ambiente.step(acoes) #obs é um vetor com 4 valores, Position, Cart Velocity, Angle, Angle Velocity\r\n",
        "            p, v, a, va=obs\r\n",
        "            state = gen_state(p,v,a,va) #Discretiza e gera estados válidos\r\n",
        "            k += 1\r\n",
        "        mean += k\r\n",
        "    mean = mean/n\r\n",
        "    \r\n",
        "    return mean"
      ],
      "execution_count": null,
      "outputs": []
    },
    {
      "cell_type": "code",
      "metadata": {
        "id": "JB8SU73w6Pg7",
        "colab": {
          "base_uri": "https://localhost:8080/",
          "height": 297
        },
        "outputId": "ae7719f5-d000-4616-d7e2-e7f9e2b7cd1a"
      },
      "source": [
        "means = []\r\n",
        "for m in mcs:\r\n",
        "    means.append(mean_actions(m.Q))\r\n",
        "means\r\n",
        "\r\n",
        "eps = [10, 100, 1000, 10000]\r\n",
        "y = means\r\n",
        "plt.xlabel(\"Média de ações\")\r\n",
        "plt.ylabel(\"Número de episódios\")\r\n",
        "plt.plot(eps, y)"
      ],
      "execution_count": null,
      "outputs": [
        {
          "output_type": "execute_result",
          "data": {
            "text/plain": [
              "[<matplotlib.lines.Line2D at 0x7fed6f62a080>]"
            ]
          },
          "metadata": {
            "tags": []
          },
          "execution_count": 21
        },
        {
          "output_type": "display_data",
          "data": {
            "image/png": "[encoded data removed]",
            "text/plain": [
              "<Figure size 432x288 with 1 Axes>"
            ]
          },
          "metadata": {
            "tags": [],
            "needs_background": "light"
          }
        }
      ]
    },
    {
      "cell_type": "code",
      "metadata": {
        "colab": {
          "base_uri": "https://localhost:8080/",
          "height": 297
        },
        "id": "we9deUC9r9yY",
        "outputId": "839b8460-1b7b-4055-ef33-581f071a9ae8"
      },
      "source": [
        "mc = MonteCarlo(n_episodios=100000)\r\n",
        "mc.main()\r\n",
        "x = list(range(1, mc.n_episodios + 1))\r\n",
        "y = mc.values\r\n",
        "plt.ylabel(\"Valores\")\r\n",
        "plt.xlabel(\"Episódios\")\r\n",
        "plt.plot(x, y)"
      ],
      "execution_count": null,
      "outputs": [
        {
          "output_type": "execute_result",
          "data": {
            "text/plain": [
              "[<matplotlib.lines.Line2D at 0x7fed8614f860>]"
            ]
          },
          "metadata": {
            "tags": []
          },
          "execution_count": 20
        },
        {
          "output_type": "display_data",
          "data": {
            "image/png": "[encoded data removed]",
            "text/plain": [
              "<Figure size 432x288 with 1 Axes>"
            ]
          },
          "metadata": {
            "tags": [],
            "needs_background": "light"
          }
        }
      ]
    }
  ]
}