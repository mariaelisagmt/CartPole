{
  "nbformat": 4,
  "nbformat_minor": 0,
  "metadata": {
    "colab": {
      "name": "CartPole.ipynb",
      "provenance": [],
      "collapsed_sections": [
        "-_hGzT7rzbwd"
      ],
      "include_colab_link": true
    },
    "kernelspec": {
      "name": "python3",
      "display_name": "Python 3"
    }
  },
  "cells": [
    {
      "cell_type": "markdown",
      "metadata": {
        "id": "view-in-github",
        "colab_type": "text"
      },
      "source": [
        "<a href=\"https://colab.research.google.com/github/mariaelisagmt/CartPole/blob/main/CartPole.ipynb\" target=\"_parent\"><img src=\"https://colab.research.google.com/assets/colab-badge.svg\" alt=\"Open In Colab\"/></a>"
      ]
    },
    {
      "cell_type": "code",
      "metadata": {
        "id": "KOlLag0Wwg24"
      },
      "source": [
        "!apt-get install -y xvfb python-opengl > /dev/null 2>&1"
      ],
      "execution_count": 1,
      "outputs": []
    },
    {
      "cell_type": "code",
      "metadata": {
        "id": "O_jSkAAq2AjU"
      },
      "source": [
        "!pip install gym pyvirtualdisplay > /dev/null 2>&1"
      ],
      "execution_count": 2,
      "outputs": []
    },
    {
      "cell_type": "code",
      "metadata": {
        "id": "RlI8ygD_2Tnw"
      },
      "source": [
        "import gym\r\n",
        "import time\r\n",
        "import numpy as np\r\n",
        "import matplotlib.pyplot as plt\r\n",
        "from IPython import display as ipythondisplay"
      ],
      "execution_count": 3,
      "outputs": []
    },
    {
      "cell_type": "code",
      "metadata": {
        "colab": {
          "base_uri": "https://localhost:8080/"
        },
        "id": "c5DyOfdL2WEm",
        "outputId": "1396ba83-ae94-45be-9669-a1bf38d813f9"
      },
      "source": [
        "from pyvirtualdisplay import Display\r\n",
        "display = Display(visible=0, size=(400, 300))\r\n",
        "display.start()"
      ],
      "execution_count": 4,
      "outputs": [
        {
          "output_type": "execute_result",
          "data": {
            "text/plain": [
              "<pyvirtualdisplay.display.Display at 0x7fe10a6b4da0>"
            ]
          },
          "metadata": {
            "tags": []
          },
          "execution_count": 4
        }
      ]
    },
    {
      "cell_type": "code",
      "metadata": {
        "colab": {
          "base_uri": "https://localhost:8080/",
          "height": 269
        },
        "id": "U7W9d9xL2af0",
        "outputId": "6cf81deb-71c1-4dbc-f629-ff914dec7ebf"
      },
      "source": [
        "env = gym.make(\"CartPole-v1\")\r\n",
        "env.reset()\r\n",
        "prev_screen = env.render(mode='rgb_array')\r\n",
        "plt.imshow(prev_screen)\r\n",
        "\r\n",
        "for i in range(50):\r\n",
        "  action = env.action_space.sample()\r\n",
        "  obs, reward, done, info = env.step(action)\r\n",
        "  screen = env.render(mode='rgb_array')\r\n",
        "  \r\n",
        "  plt.imshow(screen)\r\n",
        "  ipythondisplay.clear_output(wait=True)\r\n",
        "  ipythondisplay.display(plt.gcf())\r\n",
        "\r\n",
        "  if done:\r\n",
        "    break\r\n",
        "    \r\n",
        "ipythondisplay.clear_output(wait=True)\r\n",
        "env.close()\r\n"
      ],
      "execution_count": 5,
      "outputs": [
        {
          "output_type": "display_data",
          "data": {
            "image/png": "[encoded data removed]",
            "text/plain": [
              "<Figure size 432x288 with 1 Axes>"
            ]
          },
          "metadata": {
            "tags": [],
            "needs_background": "light"
          }
        }
      ]
    }
  ]
}