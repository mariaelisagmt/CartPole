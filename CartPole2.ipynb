{
  "nbformat": 4,
  "nbformat_minor": 0,
  "metadata": {
    "colab": {
      "name": "CartPole.ipynb",
      "provenance": [],
      "collapsed_sections": [],
      "include_colab_link": true
    },
    "kernelspec": {
      "name": "python3",
      "display_name": "Python 3"
    }
  },
  "cells": [
    {
      "cell_type": "markdown",
      "metadata": {
        "id": "view-in-github",
        "colab_type": "text"
      },
      "source": [
        "<a href=\"https://colab.research.google.com/github/mariaelisagmt/CartPole/blob/main/CartPole2.ipynb\" target=\"_parent\"><img src=\"https://colab.research.google.com/assets/colab-badge.svg\" alt=\"Open In Colab\"/></a>"
      ]
    },
    {
      "cell_type": "markdown",
      "metadata": {
        "id": "X262RwXEi2lp"
      },
      "source": [
        "# CartPole\r\n",
        "É um sistema que representa um pêndulo invertido. \r\n",
        "O agente é um carrinho que se moveem um trilho sem atrito de uma dimensão, da esquerda ou para a direita, no carrinho uma estaca pode se mover angularmente em sentido horário e anti-horário.\r\n",
        "O objetivo do problema é colocar o carrinho em movimento de modo que o pêndulo permaneça ereta.\r\n",
        "\r\n",
        "#Variáveis\r\n",
        "*   Posição p do carrinho no trilho;\r\n",
        "*   A velocidade v do carrinho;\r\n",
        "*   O ângulo a que a estaca forma com o eixo vertical do carrinho;\r\n",
        "*   A velocidade angular va de movimento da estaca.\r\n",
        "\r\n",
        "O ambiente se caracteriza como estocástico, pois não é possível determinar o resultado a partir de um estado atual, e episódico, pois o agente pode tomar qualquer uma das ações disponíveis a qualquer momento, sem que uma ação afete as demais.\r\n",
        "\r\n",
        "\r\n",
        "\r\n",
        "\r\n"
      ]
    },
    {
      "cell_type": "markdown",
      "metadata": {
        "id": "p8wCZL5HaxRL"
      },
      "source": [
        "#Código\r\n",
        "Instalando do recursos e bibliotecas necessárias."
      ]
    },
    {
      "cell_type": "code",
      "metadata": {
        "id": "KOlLag0Wwg24"
      },
      "source": [
        "!apt-get install -y xvfb python-opengl > /dev/null 2>&1"
      ],
      "execution_count": 6,
      "outputs": []
    },
    {
      "cell_type": "code",
      "metadata": {
        "id": "O_jSkAAq2AjU"
      },
      "source": [
        "!pip install gym pyvirtualdisplay > /dev/null 2>&1"
      ],
      "execution_count": 7,
      "outputs": []
    },
    {
      "cell_type": "code",
      "metadata": {
        "id": "5Drhb3bCKbkT",
        "colab": {
          "base_uri": "https://localhost:8080/"
        },
        "outputId": "a50d3100-0032-44a1-ed4d-068e3996956b"
      },
      "source": [
        "!pip install python-math"
      ],
      "execution_count": 8,
      "outputs": [
        {
          "output_type": "stream",
          "text": [
            "Requirement already satisfied: python-math in /usr/local/lib/python3.6/dist-packages (0.0.1)\n"
          ],
          "name": "stdout"
        }
      ]
    },
    {
      "cell_type": "code",
      "metadata": {
        "id": "RlI8ygD_2Tnw"
      },
      "source": [
        "import gym\r\n",
        "import time\r\n",
        "import numpy as np\r\n",
        "import matplotlib.pyplot as plt\r\n",
        "from IPython import display as ipythondisplay"
      ],
      "execution_count": 5,
      "outputs": []
    },
    {
      "cell_type": "markdown",
      "metadata": {
        "id": "BqN2oseqiwpT"
      },
      "source": [
        "Definições e configurações de tela."
      ]
    },
    {
      "cell_type": "code",
      "metadata": {
        "colab": {
          "base_uri": "https://localhost:8080/"
        },
        "id": "c5DyOfdL2WEm",
        "outputId": "b119e4e5-abe3-43c5-b46c-a5e1ec5515a8"
      },
      "source": [
        "from pyvirtualdisplay import Display\r\n",
        "tela = Display(visible=0, size=(400, 300))\r\n",
        "tela.start()"
      ],
      "execution_count": 6,
      "outputs": [
        {
          "output_type": "execute_result",
          "data": {
            "text/plain": [
              "<pyvirtualdisplay.display.Display at 0x7f0f6d27ea90>"
            ]
          },
          "metadata": {
            "tags": []
          },
          "execution_count": 6
        }
      ]
    },
    {
      "cell_type": "markdown",
      "metadata": {
        "id": "NhbLgm8ZvJbo"
      },
      "source": [
        "\r\n",
        "\r\n",
        "#Ações\r\n",
        "É uma implementação de um agente que escolhe uma ação no decorrer do tempo e o ambiente reotrna uma observação e uma recompensa.\r\n",
        "Utilizando o ambiente **CartPole-v0** do **OpenAI** da **Gym**.\r\n",
        "\r\n",
        "Um estado desse sistema é terminal nas seguintes situações:\r\n",
        "*   Se o centro do carrinho atinge alguma borda do ambiente; (Sucesso)\r\n",
        "*   Se a quantidade máxima de episódios definida é atingida; (Sucesso)\r\n",
        "*   Se o módulo do ângulo a é maior que 12 graus (o que representa, na prática, a queda da estaca); (Fracasso)\r\n",
        "\r\n",
        "#Recompensas\r\n",
        "O ambiente a cada ação retorna uma recompensa que equivale ao valor 1, caso a ação resulte no (1) ou (2) o ambiente retornara um valor true na variável Done. Caso a ação faça a estaca cair a recompensa será zero.\r\n",
        "\r\n",
        "#Funções\r\n",
        "A função **step** retorna quatro valores importantes?\r\n",
        "\r\n",
        "*   *observation*: um objeto específico do ambiente que representa sua observação do ambiente. \r\n",
        "*   *reward*: quantidade de recompensa alcançada pela ação anterior. \r\n",
        "*   *done*: variavél booleana que indica o fim de um episódio.\r\n",
        "*   *info*: informações de diagnóstico úteis para depuração.\r\n"
      ]
    },
    {
      "cell_type": "code",
      "metadata": {
        "id": "U7W9d9xL2af0",
        "colab": {
          "base_uri": "https://localhost:8080/",
          "height": 269
        },
        "outputId": "d5409e54-754a-4116-8688-993825de3321"
      },
      "source": [
        "for episodios in range(2):\n",
        "  ambiente = gym.make(\"CartPole-v0\") #Instancia o ambiente\n",
        "  ambiente.reset()\n",
        "  previa_tela = ambiente.render(mode='rgb_array') #Renderizacao da tela\n",
        "  plt.imshow(previa_tela) \n",
        "\n",
        "  for i in range(100):\n",
        "    acao = ambiente.action_space.sample() #Definindo o conjunto de acoes e observacoes validas (Discrete)\n",
        "    #action = ambiente.observation_space.sample() #Definindo o conjunto de acoes e observaoes validas (Box)\n",
        "    obs, reward, done, info = ambiente.step(acao) #Executa as acoes\n",
        "    screen = ambiente.render(mode='rgb_array') #Renderiza na tela\n",
        "    \n",
        "    plt.imshow(screen)\n",
        "    ipythondisplay.clear_output(wait=True)\n",
        "    ipythondisplay.display(plt.gcf())\n",
        "\n",
        "    if done: #Define o fim de um episódio\n",
        "      break\n",
        "    \n",
        "ipythondisplay.clear_output(wait=True)\n",
        "ambiente.close()\n"
      ],
      "execution_count": 7,
      "outputs": [
        {
          "output_type": "display_data",
          "data": {
            "image/png": "[encoded data removed]",
            "text/plain": [
              "<Figure size 432x288 with 1 Axes>"
            ]
          },
          "metadata": {
            "tags": [],
            "needs_background": "light"
          }
        }
      ]
    },
    {
      "cell_type": "markdown",
      "metadata": {
        "id": "ZXrTweqEEbYF"
      },
      "source": [
        "#Discretização\r\n",
        "Criamos uma **classe Discretizar**, que recebe como parâmetros o limite inferior, o limite superior e a quantidade de **bins** a serem criados. \r\n",
        "\r\n",
        "Cada uma das variáveis é discretizada e usada para constituir um estado válido a partir da **função gen_state**.\r\n",
        "\r\n",
        "Discretizamos um intervalo que vai de **lower** até **high** em **nbins**, todos valores receberam um mesmo valor de estado. "
      ]
    },
    {
      "cell_type": "code",
      "metadata": {
        "id": "tTTP2IRwEppq"
      },
      "source": [
        "class Discretizar:\r\n",
        "    def __init__(self,nbins,lower,high):\r\n",
        "        self.nbins = nbins\r\n",
        "        self.high = high\r\n",
        "        self.lower = lower\r\n",
        "        self.thresholds = np.array([])\r\n",
        "        self.fit()\r\n",
        "\r\n",
        "    def fit(self):\r\n",
        "        step=(self.high-self.lower)/self.nbins \r\n",
        "        self.thresholds = np.arange(self.lower, self.high, step) \r\n",
        "        \r\n",
        "    def transform(self,x):\r\n",
        "        return np.digitize(x,self.thresholds)"
      ],
      "execution_count": 8,
      "outputs": []
    },
    {
      "cell_type": "markdown",
      "metadata": {
        "id": "ZStj5e6EI29I"
      },
      "source": [
        "Discretização das variáveis posição, velocidade do cartpole, ângulo do pêndulo e velocidade do ângulo.\r\n",
        "\r\n",
        "Limites\r\n",
        "*   Posição = [-4.8, 4.8]\r\n",
        "*   Ângulo = [-24, 24] graus\r\n",
        "*   Velocidade = [-100, 100]\r\n",
        "*   Velocidade Angular = [-10, 10]\r\n",
        "\r\n",
        "Discretização de 1000 bins para p, v e a, e de 100 bins para va.\r\n"
      ]
    },
    {
      "cell_type": "code",
      "metadata": {
        "id": "tb7AydKSFS6K"
      },
      "source": [
        "posicao_discreta = Discretizar(nbins = 1000 ,\r\n",
        "                               lower = ambiente.observation_space.low[0], \r\n",
        "                               high = ambiente.observation_space.high[0])\r\n",
        "\r\n",
        "velocidade_discreta = Discretizar(nbins = 1000, \r\n",
        "                                  lower = -100 , \r\n",
        "                                  high = 100)\r\n",
        "\r\n",
        "angulo_discreto = Discretizar(nbins = 1000 ,\r\n",
        "                              lower = ambiente.observation_space.low[2], \r\n",
        "                              high = ambiente.observation_space.high[2])\r\n",
        "\r\n",
        "velocidade_angular_discreta = Discretizar(nbins = 100, \r\n",
        "                                         lower = -10 , \r\n",
        "                                         high = 10) \r\n"
      ],
      "execution_count": 9,
      "outputs": []
    },
    {
      "cell_type": "markdown",
      "metadata": {
        "id": "eK249OcXIZkP"
      },
      "source": [
        "Aplicação das variáveis discretas no ambiente a partir da **função gen_state()**"
      ]
    },
    {
      "cell_type": "code",
      "metadata": {
        "colab": {
          "base_uri": "https://localhost:8080/"
        },
        "id": "0gpgJ8U3HvJK",
        "outputId": "2d98dd77-4eff-4d2e-8d46-e0be3915de10"
      },
      "source": [
        "#Função\r\n",
        "gen_state = lambda  p, v, a, va : ( posicao_discreta.transform(p), \r\n",
        "                                    velocidade_discreta.transform(v), \r\n",
        "                                    angulo_discreto.transform(a), \r\n",
        "                                    velocidade_angular_discreta.transform(va) )\r\n",
        "\r\n",
        "#Reinicia o ambiente\r\n",
        "ambiente.reset()\r\n",
        "\r\n",
        "#Aplicação\r\n",
        "for i in range(20):\r\n",
        "    acoes = ambiente.action_space.sample() #0 ir para trás, 1 ir pra frente\r\n",
        "    obs, reward, done, info = ambiente.step(acoes)\r\n",
        "    p, v, a, va = obs\r\n",
        "    print(gen_state(p,v,a,va)) #Discretiza e gera estados válidos"
      ],
      "execution_count": 10,
      "outputs": [
        {
          "output_type": "stream",
          "text": [
            "(500, 502, 515, 49)\n",
            "(501, 503, 508, 47)\n",
            "(501, 504, 493, 46)\n",
            "(503, 503, 472, 47)\n",
            "(504, 502, 457, 49)\n",
            "(504, 503, 450, 47)\n",
            "(505, 502, 435, 49)\n",
            "(505, 503, 427, 47)\n",
            "(506, 504, 411, 46)\n",
            "(507, 503, 388, 47)\n",
            "(508, 504, 372, 45)\n",
            "(510, 505, 348, 44)\n",
            "(511, 504, 316, 45)\n",
            "(513, 505, 290, 43)\n",
            "(514, 506, 256, 42)\n",
            "(516, 507, 213, 40)\n",
            "(519, 508, 163, 38)\n",
            "(522, 507, 104, 39)\n",
            "(524, 506, 49, 40)\n",
            "(527, 505, 0, 41)\n"
          ],
          "name": "stdout"
        },
        {
          "output_type": "stream",
          "text": [
            "/usr/local/lib/python3.6/dist-packages/gym/logger.py:30: UserWarning: \u001b[33mWARN: You are calling 'step()' even though this environment has already returned done = True. You should always call 'reset()' once you receive 'done = True' -- any further steps are undefined behavior.\u001b[0m\n",
            "  warnings.warn(colorize('%s: %s'%('WARN', msg % args), 'yellow'))\n"
          ],
          "name": "stderr"
        }
      ]
    },
    {
      "cell_type": "markdown",
      "metadata": {
        "id": "Pz-bcC8-Kg0Q"
      },
      "source": [
        "#Monte Carlo Control\r\n",
        "O aprendizado por reforço pelo método de Monte Carlo consiste em que o agente, após completar um episódio inteiro, seja informado sobre o valor da recompensa obtida.\r\n",
        "O state value é aprendido a partir de uma média de N amostras de episódios que foram iniciados em um mesmo estado. "
      ]
    },
    {
      "cell_type": "code",
      "metadata": {
        "id": "UzRtPPJsKsXK"
      },
      "source": [
        "class MonteCarlo():\r\n",
        "    def __init__(self, gamma = 0.9, n_episodios = 1000,n0 = 1):\r\n",
        "        self.n_episodios = n_episodios #Numero de episodios\r\n",
        "        self.gamma = gamma #Gama - relacionado as recompensas\r\n",
        "        self.n0 = n0\r\n",
        "        self.n_visitas = {}\r\n",
        "        self.Q = {}\r\n",
        "        self.Q_opt = {}\r\n",
        "        self.states = set()\r\n",
        "        self.policy = {} #Politica - \r\n",
        "        self.values = []\r\n",
        "        self.sample_state = (498, 501, 516, 51)\r\n",
        "      \r\n",
        "    def main(self):\r\n",
        "        for  i in range(1, self.n_episodios + 1):\r\n",
        "            #Reseta o ambiente\r\n",
        "            ambiente.reset()\r\n",
        "            #Inicializamos com um estado\r\n",
        "            obs = ambiente.step(ambiente.action_space.sample())[0]\r\n",
        "            p, v, a, va = obs\r\n",
        "            #Dicretiza e gera estados válidos\r\n",
        "            init_state = gen_state(p,v,a,va) #estado inicial\r\n",
        "            \r\n",
        "            self.update_Q(init_state)\r\n",
        "            self.values.append( max( self.Q_opt.get(self.sample_state, {}).get((1), 0), \r\n",
        "                                     self.Q_opt.get(self.sample_state, {}).get((0), 0)) )\r\n",
        "        self.improvement_policy()\r\n",
        "      \r\n",
        "  \r\n",
        "    def update_Q(self, old_state):\r\n",
        "        #Utilizamos umas estrutura recursiva para atualizar Q\r\n",
        "        self.states.add(old_state)\r\n",
        "        acoes = (ambiente.action_space.sample())\r\n",
        "        obs, reward, done, info = ambiente.step(acoes) \r\n",
        "        p, v, a, va = obs\r\n",
        "        new_state = gen_state(p,v,a,va) #Discretiza e gera estados válidos\r\n",
        "        \r\n",
        "        Gt = 0\r\n",
        "        #Se deu errado\r\n",
        "        if(done == False):\r\n",
        "            Gt = self.gamma * self.update_Q(new_state)\r\n",
        "        #Atualizacao dos pontos\r\n",
        "        Gt = Gt + reward\r\n",
        "        #Formula\r\n",
        "        self.n_visitas[(old_state, acoes)] = self.n_visitas.get((old_state, acoes),0) + 1 #Para casa visita acrescenta 1\r\n",
        "        self.Q[(old_state, acoes)] = self.Q.get((old_state, acoes),0) + (Gt-self.Q.get((old_state, acoes),0)) / self.n_visitas[(old_state, acoes)]\r\n",
        "    \r\n",
        "        #Rescreve Q para Q_opt para melhor acesso\r\n",
        "        if(self.Q_opt.get(old_state)):\r\n",
        "            self.Q_opt.get(old_state).update({acoes : self.Q[(old_state, acoes)]})\r\n",
        "        else:\r\n",
        "            self.Q_opt[old_state] = {acoes:self.Q[(old_state, acoes)]} \r\n",
        "        return Gt\r\n",
        "    \r\n",
        "    #Exploration x exploitation\r\n",
        "    def improvement_policy(self):\r\n",
        "        for st in self.states:\r\n",
        "            n = self.n_visitas.get((st,0),0) + self.n_visitas.get((st,1),0) #Número de vezes que o estado foi visitado\r\n",
        "            ek = self.n0 / (self.n0+n)\r\n",
        "            maximo = np.max(self.Q_opt[st].values())\r\n",
        "            \r\n",
        "            for a in self.Q_opt[st].keys():\r\n",
        "                if(maximo == self.Q_opt[st][a]):\r\n",
        "                    self.policy[(st,a)] = ek / 2+1-ek\r\n",
        "                else:\r\n",
        "                    self.policy[(st,a)] = ek/2"
      ],
      "execution_count": 16,
      "outputs": []
    },
    {
      "cell_type": "code",
      "metadata": {
        "id": "y5zyk63SLD98",
        "colab": {
          "base_uri": "https://localhost:8080/"
        },
        "outputId": "316d2a0e-f55f-4519-ab34-e3447cdb77dd"
      },
      "source": [
        "#Variamos o número de episodes para MC\r\n",
        "mcs = []\r\n",
        "\r\n",
        "for i in range(1,5):\r\n",
        "    start_time = time.time()\r\n",
        "    mc = MonteCarlo(n_episodios = 100)\r\n",
        "    mc.main()\r\n",
        "    mcs.append(mc)\r\n",
        "    end_time = time.time()\r\n",
        "    total_time = end_time - start_time\r\n",
        "    print(\"Tempo total de execução para 10^{} episódios: {} segundos\".format(i, total_time))"
      ],
      "execution_count": 17,
      "outputs": [
        {
          "output_type": "stream",
          "text": [
            "Tempo total de execução para 10^1 episódios: 0.1615746021270752 segundos\n",
            "Tempo total de execução para 10^2 episódios: 0.13914108276367188 segundos\n",
            "Tempo total de execução para 10^3 episódios: 0.1453402042388916 segundos\n",
            "Tempo total de execução para 10^4 episódios: 0.15312409400939941 segundos\n"
          ],
          "name": "stdout"
        }
      ]
    },
    {
      "cell_type": "markdown",
      "metadata": {
        "id": "Kf5YK4_a6YIK"
      },
      "source": [
        "Calcula a média de quantas ações o pêndulo faz antes de cair."
      ]
    },
    {
      "cell_type": "code",
      "metadata": {
        "id": "fSZlzmhf6NtO"
      },
      "source": [
        "def mean_actions(Q, n = 100):\r\n",
        "    mean=0\r\n",
        "    for i in range(n):\r\n",
        "        ambiente.reset()\r\n",
        "        obs, reward, done = ambiente.step(ambiente.action_space.sample())[:3]\r\n",
        "        p, v, a, va = obs\r\n",
        "        state = gen_state(p,v,a,va) #Discretiza e gera estados válidos\r\n",
        "        k = 0\r\n",
        "        #Se não tiver sucesso\r\n",
        "        while(done == False):\r\n",
        "            #Se caso o estado não for alcançado, ele escolhe uma ação randomica\r\n",
        "            s1 = Q.get((state,(1)), ambiente.action_space.sample()) \r\n",
        "            s2 = Q.get((state,(0)), ambiente.action_space.sample())\r\n",
        "            acoes = 1 if(s1>s2) else 0\r\n",
        "            obs, reward, done, info = ambiente.step(acoes) #obs é um vetor com 4 valores, Position, Cart Velocity, Angle, Angle Velocity\r\n",
        "            p, v, a, va=obs\r\n",
        "            state = gen_state(p,v,a,va) #Discretiza e gera estados válidos\r\n",
        "            k += 1\r\n",
        "        mean += k\r\n",
        "    mean = mean/n\r\n",
        "    \r\n",
        "    return mean"
      ],
      "execution_count": 18,
      "outputs": []
    },
    {
      "cell_type": "code",
      "metadata": {
        "id": "JB8SU73w6Pg7",
        "colab": {
          "base_uri": "https://localhost:8080/",
          "height": 297
        },
        "outputId": "48ba337f-72e3-49f2-aab1-82a9e12db07e"
      },
      "source": [
        "means = []\r\n",
        "for m in mcs:\r\n",
        "    means.append(mean_actions(m.Q))\r\n",
        "means\r\n",
        "\r\n",
        "eps = [10, 100, 1000, 10000]\r\n",
        "y = means\r\n",
        "plt.xlabel(\"média de ações\")\r\n",
        "plt.ylabel(\"número de episódios\")\r\n",
        "plt.plot(eps, y)"
      ],
      "execution_count": 19,
      "outputs": [
        {
          "output_type": "execute_result",
          "data": {
            "text/plain": [
              "[<matplotlib.lines.Line2D at 0x7f0f56e61080>]"
            ]
          },
          "metadata": {
            "tags": []
          },
          "execution_count": 19
        },
        {
          "output_type": "display_data",
          "data": {
            "image/png": "[encoded data removed]",
            "text/plain": [
              "<Figure size 432x288 with 1 Axes>"
            ]
          },
          "metadata": {
            "tags": [],
            "needs_background": "light"
          }
        }
      ]
    },
    {
      "cell_type": "code",
      "metadata": {
        "id": "lR5TvWzD6Ruy",
        "colab": {
          "base_uri": "https://localhost:8080/",
          "height": 297
        },
        "outputId": "73043431-4399-44ad-a439-1ffd414c5257"
      },
      "source": [
        "mc = MonteCarlo(n_episodios=100000)\r\n",
        "\r\n",
        "mc.main()\r\n",
        "\r\n",
        "x = list(range(1,mc.n_episodios+1))\r\n",
        "y = mc.values\r\n",
        "\r\n",
        "plt.ylabel(\"Valores\")\r\n",
        "plt.xlabel(\"Episódios\")\r\n",
        "plt.plot(x, y)"
      ],
      "execution_count": 21,
      "outputs": [
        {
          "output_type": "execute_result",
          "data": {
            "text/plain": [
              "[<matplotlib.lines.Line2D at 0x7f0f574b5748>]"
            ]
          },
          "metadata": {
            "tags": []
          },
          "execution_count": 21
        },
        {
          "output_type": "display_data",
          "data": {
            "image/png": "[encoded data removed]",
            "text/plain": [
              "<Figure size 432x288 with 1 Axes>"
            ]
          },
          "metadata": {
            "tags": [],
            "needs_background": "light"
          }
        }
      ]
    },
    {
      "cell_type": "markdown",
      "metadata": {
        "id": "TUykAw7C2JBM"
      },
      "source": [
        ""
      ]
    },
    {
      "cell_type": "code",
      "metadata": {
        "colab": {
          "base_uri": "https://localhost:8080/"
        },
        "id": "n84z06Jn19-j",
        "outputId": "ed639da2-c093-4b46-e1f6-ef5e9f4e4c14"
      },
      "source": [
        "!pip install tensorflow_estimator\r\n",
        "!pip3 install tensorflow\r\n",
        "!pip install tensorflow==1.15"
      ],
      "execution_count": 16,
      "outputs": [
        {
          "output_type": "stream",
          "text": [
            "Requirement already satisfied: tensorflow==1.15 in /usr/local/lib/python3.6/dist-packages (1.15.0)\n",
            "Requirement already satisfied: absl-py>=0.7.0 in /usr/local/lib/python3.6/dist-packages (from tensorflow==1.15) (0.10.0)\n",
            "Requirement already satisfied: tensorflow-estimator==1.15.1 in /usr/local/lib/python3.6/dist-packages (from tensorflow==1.15) (1.15.1)\n",
            "Requirement already satisfied: six>=1.10.0 in /usr/local/lib/python3.6/dist-packages (from tensorflow==1.15) (1.15.0)\n",
            "Requirement already satisfied: opt-einsum>=2.3.2 in /usr/local/lib/python3.6/dist-packages (from tensorflow==1.15) (3.3.0)\n",
            "Requirement already satisfied: grpcio>=1.8.6 in /usr/local/lib/python3.6/dist-packages (from tensorflow==1.15) (1.32.0)\n",
            "Requirement already satisfied: wheel>=0.26 in /usr/local/lib/python3.6/dist-packages (from tensorflow==1.15) (0.36.2)\n",
            "Requirement already satisfied: keras-applications>=1.0.8 in /usr/local/lib/python3.6/dist-packages (from tensorflow==1.15) (1.0.8)\n",
            "Requirement already satisfied: google-pasta>=0.1.6 in /usr/local/lib/python3.6/dist-packages (from tensorflow==1.15) (0.2.0)\n",
            "Requirement already satisfied: numpy<2.0,>=1.16.0 in /usr/local/lib/python3.6/dist-packages (from tensorflow==1.15) (1.19.5)\n",
            "Requirement already satisfied: protobuf>=3.6.1 in /usr/local/lib/python3.6/dist-packages (from tensorflow==1.15) (3.12.4)\n",
            "Requirement already satisfied: keras-preprocessing>=1.0.5 in /usr/local/lib/python3.6/dist-packages (from tensorflow==1.15) (1.1.2)\n",
            "Requirement already satisfied: gast==0.2.2 in /usr/local/lib/python3.6/dist-packages (from tensorflow==1.15) (0.2.2)\n",
            "Requirement already satisfied: termcolor>=1.1.0 in /usr/local/lib/python3.6/dist-packages (from tensorflow==1.15) (1.1.0)\n",
            "Requirement already satisfied: astor>=0.6.0 in /usr/local/lib/python3.6/dist-packages (from tensorflow==1.15) (0.8.1)\n",
            "Requirement already satisfied: tensorboard<1.16.0,>=1.15.0 in /usr/local/lib/python3.6/dist-packages (from tensorflow==1.15) (1.15.0)\n",
            "Requirement already satisfied: wrapt>=1.11.1 in /usr/local/lib/python3.6/dist-packages (from tensorflow==1.15) (1.12.1)\n",
            "Requirement already satisfied: h5py in /usr/local/lib/python3.6/dist-packages (from keras-applications>=1.0.8->tensorflow==1.15) (2.10.0)\n",
            "Requirement already satisfied: setuptools in /usr/local/lib/python3.6/dist-packages (from protobuf>=3.6.1->tensorflow==1.15) (53.0.0)\n",
            "Requirement already satisfied: werkzeug>=0.11.15 in /usr/local/lib/python3.6/dist-packages (from tensorboard<1.16.0,>=1.15.0->tensorflow==1.15) (1.0.1)\n",
            "Requirement already satisfied: markdown>=2.6.8 in /usr/local/lib/python3.6/dist-packages (from tensorboard<1.16.0,>=1.15.0->tensorflow==1.15) (3.3.3)\n",
            "Requirement already satisfied: importlib-metadata; python_version < \"3.8\" in /usr/local/lib/python3.6/dist-packages (from markdown>=2.6.8->tensorboard<1.16.0,>=1.15.0->tensorflow==1.15) (3.4.0)\n",
            "Requirement already satisfied: zipp>=0.5 in /usr/local/lib/python3.6/dist-packages (from importlib-metadata; python_version < \"3.8\"->markdown>=2.6.8->tensorboard<1.16.0,>=1.15.0->tensorflow==1.15) (3.4.0)\n",
            "Requirement already satisfied: typing-extensions>=3.6.4; python_version < \"3.8\" in /usr/local/lib/python3.6/dist-packages (from importlib-metadata; python_version < \"3.8\"->markdown>=2.6.8->tensorboard<1.16.0,>=1.15.0->tensorflow==1.15) (3.7.4.3)\n"
          ],
          "name": "stdout"
        }
      ]
    },
    {
      "cell_type": "code",
      "metadata": {
        "colab": {
          "base_uri": "https://localhost:8080/"
        },
        "id": "JCk_HQys5M_y",
        "outputId": "c73f1067-7cec-4626-bdf2-6e124cefdf41"
      },
      "source": [
        "!pip install tensorflow-addons"
      ],
      "execution_count": 21,
      "outputs": [
        {
          "output_type": "stream",
          "text": [
            "Collecting tensorflow-addons\n",
            "\u001b[?25l  Downloading https://files.pythonhosted.org/packages/2e/af/0ce633c373d2b0476ef8299673d22275fcc3c5ba283b2cec4aa06bc5b810/tensorflow_addons-0.12.1-cp36-cp36m-manylinux2010_x86_64.whl (703kB)\n",
            "\r\u001b[K     |▌                               | 10kB 13.5MB/s eta 0:00:01\r\u001b[K     |█                               | 20kB 15.9MB/s eta 0:00:01\r\u001b[K     |█▍                              | 30kB 10.5MB/s eta 0:00:01\r\u001b[K     |█▉                              | 40kB 9.7MB/s eta 0:00:01\r\u001b[K     |██▎                             | 51kB 5.3MB/s eta 0:00:01\r\u001b[K     |██▉                             | 61kB 6.1MB/s eta 0:00:01\r\u001b[K     |███▎                            | 71kB 6.2MB/s eta 0:00:01\r\u001b[K     |███▊                            | 81kB 6.6MB/s eta 0:00:01\r\u001b[K     |████▏                           | 92kB 6.3MB/s eta 0:00:01\r\u001b[K     |████▋                           | 102kB 5.3MB/s eta 0:00:01\r\u001b[K     |█████▏                          | 112kB 5.3MB/s eta 0:00:01\r\u001b[K     |█████▋                          | 122kB 5.3MB/s eta 0:00:01\r\u001b[K     |██████                          | 133kB 5.3MB/s eta 0:00:01\r\u001b[K     |██████▌                         | 143kB 5.3MB/s eta 0:00:01\r\u001b[K     |███████                         | 153kB 5.3MB/s eta 0:00:01\r\u001b[K     |███████▌                        | 163kB 5.3MB/s eta 0:00:01\r\u001b[K     |████████                        | 174kB 5.3MB/s eta 0:00:01\r\u001b[K     |████████▍                       | 184kB 5.3MB/s eta 0:00:01\r\u001b[K     |████████▉                       | 194kB 5.3MB/s eta 0:00:01\r\u001b[K     |█████████▎                      | 204kB 5.3MB/s eta 0:00:01\r\u001b[K     |█████████▉                      | 215kB 5.3MB/s eta 0:00:01\r\u001b[K     |██████████▎                     | 225kB 5.3MB/s eta 0:00:01\r\u001b[K     |██████████▊                     | 235kB 5.3MB/s eta 0:00:01\r\u001b[K     |███████████▏                    | 245kB 5.3MB/s eta 0:00:01\r\u001b[K     |███████████▋                    | 256kB 5.3MB/s eta 0:00:01\r\u001b[K     |████████████▏                   | 266kB 5.3MB/s eta 0:00:01\r\u001b[K     |████████████▋                   | 276kB 5.3MB/s eta 0:00:01\r\u001b[K     |█████████████                   | 286kB 5.3MB/s eta 0:00:01\r\u001b[K     |█████████████▌                  | 296kB 5.3MB/s eta 0:00:01\r\u001b[K     |██████████████                  | 307kB 5.3MB/s eta 0:00:01\r\u001b[K     |██████████████▍                 | 317kB 5.3MB/s eta 0:00:01\r\u001b[K     |███████████████                 | 327kB 5.3MB/s eta 0:00:01\r\u001b[K     |███████████████▍                | 337kB 5.3MB/s eta 0:00:01\r\u001b[K     |███████████████▉                | 348kB 5.3MB/s eta 0:00:01\r\u001b[K     |████████████████▎               | 358kB 5.3MB/s eta 0:00:01\r\u001b[K     |████████████████▊               | 368kB 5.3MB/s eta 0:00:01\r\u001b[K     |█████████████████▎              | 378kB 5.3MB/s eta 0:00:01\r\u001b[K     |█████████████████▊              | 389kB 5.3MB/s eta 0:00:01\r\u001b[K     |██████████████████▏             | 399kB 5.3MB/s eta 0:00:01\r\u001b[K     |██████████████████▋             | 409kB 5.3MB/s eta 0:00:01\r\u001b[K     |███████████████████             | 419kB 5.3MB/s eta 0:00:01\r\u001b[K     |███████████████████▋            | 430kB 5.3MB/s eta 0:00:01\r\u001b[K     |████████████████████            | 440kB 5.3MB/s eta 0:00:01\r\u001b[K     |████████████████████▌           | 450kB 5.3MB/s eta 0:00:01\r\u001b[K     |█████████████████████           | 460kB 5.3MB/s eta 0:00:01\r\u001b[K     |█████████████████████▍          | 471kB 5.3MB/s eta 0:00:01\r\u001b[K     |██████████████████████          | 481kB 5.3MB/s eta 0:00:01\r\u001b[K     |██████████████████████▍         | 491kB 5.3MB/s eta 0:00:01\r\u001b[K     |██████████████████████▉         | 501kB 5.3MB/s eta 0:00:01\r\u001b[K     |███████████████████████▎        | 512kB 5.3MB/s eta 0:00:01\r\u001b[K     |███████████████████████▊        | 522kB 5.3MB/s eta 0:00:01\r\u001b[K     |████████████████████████▎       | 532kB 5.3MB/s eta 0:00:01\r\u001b[K     |████████████████████████▊       | 542kB 5.3MB/s eta 0:00:01\r\u001b[K     |█████████████████████████▏      | 552kB 5.3MB/s eta 0:00:01\r\u001b[K     |█████████████████████████▋      | 563kB 5.3MB/s eta 0:00:01\r\u001b[K     |██████████████████████████      | 573kB 5.3MB/s eta 0:00:01\r\u001b[K     |██████████████████████████▋     | 583kB 5.3MB/s eta 0:00:01\r\u001b[K     |███████████████████████████     | 593kB 5.3MB/s eta 0:00:01\r\u001b[K     |███████████████████████████▌    | 604kB 5.3MB/s eta 0:00:01\r\u001b[K     |████████████████████████████    | 614kB 5.3MB/s eta 0:00:01\r\u001b[K     |████████████████████████████▍   | 624kB 5.3MB/s eta 0:00:01\r\u001b[K     |████████████████████████████▉   | 634kB 5.3MB/s eta 0:00:01\r\u001b[K     |█████████████████████████████▍  | 645kB 5.3MB/s eta 0:00:01\r\u001b[K     |█████████████████████████████▉  | 655kB 5.3MB/s eta 0:00:01\r\u001b[K     |██████████████████████████████▎ | 665kB 5.3MB/s eta 0:00:01\r\u001b[K     |██████████████████████████████▊ | 675kB 5.3MB/s eta 0:00:01\r\u001b[K     |███████████████████████████████▏| 686kB 5.3MB/s eta 0:00:01\r\u001b[K     |███████████████████████████████▊| 696kB 5.3MB/s eta 0:00:01\r\u001b[K     |████████████████████████████████| 706kB 5.3MB/s \n",
            "\u001b[?25hRequirement already satisfied: typeguard>=2.7 in /usr/local/lib/python3.6/dist-packages (from tensorflow-addons) (2.7.1)\n",
            "Installing collected packages: tensorflow-addons\n",
            "Successfully installed tensorflow-addons-0.12.1\n"
          ],
          "name": "stdout"
        }
      ]
    },
    {
      "cell_type": "code",
      "metadata": {
        "colab": {
          "base_uri": "https://localhost:8080/"
        },
        "id": "cpVDG74H47kE",
        "outputId": "68c85e42-e033-4716-8725-85d9f41ecb0e"
      },
      "source": [
        "!pip install tensorflow-qnd"
      ],
      "execution_count": 23,
      "outputs": [
        {
          "output_type": "stream",
          "text": [
            "Requirement already satisfied: tensorflow-qnd in /usr/local/lib/python3.6/dist-packages (0.1.11)\n",
            "Requirement already satisfied: gargparse in /usr/local/lib/python3.6/dist-packages (from tensorflow-qnd) (0.0.6)\n"
          ],
          "name": "stdout"
        }
      ]
    },
    {
      "cell_type": "code",
      "metadata": {
        "colab": {
          "base_uri": "https://localhost:8080/"
        },
        "id": "pRoNkVluwdjf",
        "outputId": "2ba17611-eed0-48cf-dc0b-a2f312dd02a7"
      },
      "source": [
        "!pip install --upgrade tf_slim"
      ],
      "execution_count": 12,
      "outputs": [
        {
          "output_type": "stream",
          "text": [
            "Requirement already up-to-date: tf_slim in /usr/local/lib/python3.6/dist-packages (1.1.0)\n",
            "Requirement already satisfied, skipping upgrade: absl-py>=0.2.2 in /usr/local/lib/python3.6/dist-packages (from tf_slim) (0.10.0)\n",
            "Requirement already satisfied, skipping upgrade: six in /usr/local/lib/python3.6/dist-packages (from absl-py>=0.2.2->tf_slim) (1.15.0)\n"
          ],
          "name": "stdout"
        }
      ]
    },
    {
      "cell_type": "code",
      "metadata": {
        "colab": {
          "base_uri": "https://localhost:8080/"
        },
        "id": "HZlMlqXKxZQX",
        "outputId": "ffd78005-9d8e-4243-e159-023295bb2406"
      },
      "source": [
        "!pip install stable-baselines3"
      ],
      "execution_count": 9,
      "outputs": [
        {
          "output_type": "stream",
          "text": [
            "Requirement already satisfied: stable-baselines3 in /usr/local/lib/python3.6/dist-packages (0.10.0)\n",
            "Requirement already satisfied: gym>=0.17 in /usr/local/lib/python3.6/dist-packages (from stable-baselines3) (0.17.3)\n",
            "Requirement already satisfied: matplotlib in /usr/local/lib/python3.6/dist-packages (from stable-baselines3) (3.2.2)\n",
            "Requirement already satisfied: torch>=1.4.0 in /usr/local/lib/python3.6/dist-packages (from stable-baselines3) (1.7.0+cu101)\n",
            "Requirement already satisfied: cloudpickle in /usr/local/lib/python3.6/dist-packages (from stable-baselines3) (1.3.0)\n",
            "Requirement already satisfied: pandas in /usr/local/lib/python3.6/dist-packages (from stable-baselines3) (1.1.5)\n",
            "Requirement already satisfied: numpy in /usr/local/lib/python3.6/dist-packages (from stable-baselines3) (1.19.5)\n",
            "Requirement already satisfied: scipy in /usr/local/lib/python3.6/dist-packages (from gym>=0.17->stable-baselines3) (1.4.1)\n",
            "Requirement already satisfied: pyglet<=1.5.0,>=1.4.0 in /usr/local/lib/python3.6/dist-packages (from gym>=0.17->stable-baselines3) (1.5.0)\n",
            "Requirement already satisfied: kiwisolver>=1.0.1 in /usr/local/lib/python3.6/dist-packages (from matplotlib->stable-baselines3) (1.3.1)\n",
            "Requirement already satisfied: pyparsing!=2.0.4,!=2.1.2,!=2.1.6,>=2.0.1 in /usr/local/lib/python3.6/dist-packages (from matplotlib->stable-baselines3) (2.4.7)\n",
            "Requirement already satisfied: cycler>=0.10 in /usr/local/lib/python3.6/dist-packages (from matplotlib->stable-baselines3) (0.10.0)\n",
            "Requirement already satisfied: python-dateutil>=2.1 in /usr/local/lib/python3.6/dist-packages (from matplotlib->stable-baselines3) (2.8.1)\n",
            "Requirement already satisfied: dataclasses in /usr/local/lib/python3.6/dist-packages (from torch>=1.4.0->stable-baselines3) (0.8)\n",
            "Requirement already satisfied: future in /usr/local/lib/python3.6/dist-packages (from torch>=1.4.0->stable-baselines3) (0.16.0)\n",
            "Requirement already satisfied: typing-extensions in /usr/local/lib/python3.6/dist-packages (from torch>=1.4.0->stable-baselines3) (3.7.4.3)\n",
            "Requirement already satisfied: pytz>=2017.2 in /usr/local/lib/python3.6/dist-packages (from pandas->stable-baselines3) (2018.9)\n",
            "Requirement already satisfied: six in /usr/local/lib/python3.6/dist-packages (from cycler>=0.10->matplotlib->stable-baselines3) (1.15.0)\n"
          ],
          "name": "stdout"
        }
      ]
    },
    {
      "cell_type": "code",
      "metadata": {
        "colab": {
          "base_uri": "https://localhost:8080/",
          "height": 180
        },
        "id": "8N5KmVmCBq5M",
        "outputId": "3929b79e-77d8-405e-d6d9-4eccc0696763"
      },
      "source": [
        "python --version\r\n",
        "pip3 --version"
      ],
      "execution_count": 25,
      "outputs": [
        {
          "output_type": "error",
          "ename": "NameError",
          "evalue": "ignored",
          "traceback": [
            "\u001b[0;31m---------------------------------------------------------------------------\u001b[0m",
            "\u001b[0;31mNameError\u001b[0m                                 Traceback (most recent call last)",
            "\u001b[0;32m<ipython-input-25-7dff85722131>\u001b[0m in \u001b[0;36m<module>\u001b[0;34m()\u001b[0m\n\u001b[0;32m----> 1\u001b[0;31m \u001b[0mpython\u001b[0m \u001b[0;34m-\u001b[0m\u001b[0;34m-\u001b[0m\u001b[0mversion\u001b[0m\u001b[0;34m\u001b[0m\u001b[0;34m\u001b[0m\u001b[0m\n\u001b[0m\u001b[1;32m      2\u001b[0m \u001b[0mpip3\u001b[0m \u001b[0;34m-\u001b[0m\u001b[0;34m-\u001b[0m\u001b[0mversion\u001b[0m\u001b[0;34m\u001b[0m\u001b[0;34m\u001b[0m\u001b[0m\n",
            "\u001b[0;31mNameError\u001b[0m: name 'python' is not defined"
          ]
        }
      ]
    },
    {
      "cell_type": "code",
      "metadata": {
        "id": "8GP0zy_qvK1l"
      },
      "source": [
        ""
      ],
      "execution_count": 10,
      "outputs": []
    },
    {
      "cell_type": "code",
      "metadata": {
        "colab": {
          "base_uri": "https://localhost:8080/",
          "height": 442
        },
        "id": "08OLsILGyfa5",
        "outputId": "4366dff6-d717-4ce8-8585-af21b1b76705"
      },
      "source": [
        ""
      ],
      "execution_count": 22,
      "outputs": [
        {
          "output_type": "error",
          "ename": "ModuleNotFoundError",
          "evalue": "ignored",
          "traceback": [
            "\u001b[0;31m---------------------------------------------------------------------------\u001b[0m",
            "\u001b[0;31mModuleNotFoundError\u001b[0m                       Traceback (most recent call last)",
            "\u001b[0;32m<ipython-input-22-deaeae255436>\u001b[0m in \u001b[0;36m<module>\u001b[0;34m()\u001b[0m\n\u001b[0;32m----> 1\u001b[0;31m \u001b[0;32mfrom\u001b[0m \u001b[0mstable_baselines\u001b[0m \u001b[0;32mimport\u001b[0m \u001b[0mPPO\u001b[0m\u001b[0;34m\u001b[0m\u001b[0;34m\u001b[0m\u001b[0m\n\u001b[0m",
            "\u001b[0;32m/usr/local/lib/python3.6/dist-packages/stable_baselines/__init__.py\u001b[0m in \u001b[0;36m<module>\u001b[0;34m()\u001b[0m\n\u001b[1;32m      4\u001b[0m \u001b[0;32mfrom\u001b[0m \u001b[0mstable_baselines\u001b[0m\u001b[0;34m.\u001b[0m\u001b[0macer\u001b[0m \u001b[0;32mimport\u001b[0m \u001b[0mACER\u001b[0m\u001b[0;34m\u001b[0m\u001b[0;34m\u001b[0m\u001b[0m\n\u001b[1;32m      5\u001b[0m \u001b[0;32mfrom\u001b[0m \u001b[0mstable_baselines\u001b[0m\u001b[0;34m.\u001b[0m\u001b[0macktr\u001b[0m \u001b[0;32mimport\u001b[0m \u001b[0mACKTR\u001b[0m\u001b[0;34m\u001b[0m\u001b[0;34m\u001b[0m\u001b[0m\n\u001b[0;32m----> 6\u001b[0;31m \u001b[0;32mfrom\u001b[0m \u001b[0mstable_baselines\u001b[0m\u001b[0;34m.\u001b[0m\u001b[0mdeepq\u001b[0m \u001b[0;32mimport\u001b[0m \u001b[0mDQN\u001b[0m\u001b[0;34m\u001b[0m\u001b[0;34m\u001b[0m\u001b[0m\n\u001b[0m\u001b[1;32m      7\u001b[0m \u001b[0;32mfrom\u001b[0m \u001b[0mstable_baselines\u001b[0m\u001b[0;34m.\u001b[0m\u001b[0mher\u001b[0m \u001b[0;32mimport\u001b[0m \u001b[0mHER\u001b[0m\u001b[0;34m\u001b[0m\u001b[0;34m\u001b[0m\u001b[0m\n\u001b[1;32m      8\u001b[0m \u001b[0;32mfrom\u001b[0m \u001b[0mstable_baselines\u001b[0m\u001b[0;34m.\u001b[0m\u001b[0mppo2\u001b[0m \u001b[0;32mimport\u001b[0m \u001b[0mPPO2\u001b[0m\u001b[0;34m\u001b[0m\u001b[0;34m\u001b[0m\u001b[0m\n",
            "\u001b[0;32m/usr/local/lib/python3.6/dist-packages/stable_baselines/deepq/__init__.py\u001b[0m in \u001b[0;36m<module>\u001b[0;34m()\u001b[0m\n\u001b[0;32m----> 1\u001b[0;31m \u001b[0;32mfrom\u001b[0m \u001b[0mstable_baselines\u001b[0m\u001b[0;34m.\u001b[0m\u001b[0mdeepq\u001b[0m\u001b[0;34m.\u001b[0m\u001b[0mpolicies\u001b[0m \u001b[0;32mimport\u001b[0m \u001b[0mMlpPolicy\u001b[0m\u001b[0;34m,\u001b[0m \u001b[0mCnnPolicy\u001b[0m\u001b[0;34m,\u001b[0m \u001b[0mLnMlpPolicy\u001b[0m\u001b[0;34m,\u001b[0m \u001b[0mLnCnnPolicy\u001b[0m\u001b[0;34m\u001b[0m\u001b[0;34m\u001b[0m\u001b[0m\n\u001b[0m\u001b[1;32m      2\u001b[0m \u001b[0;32mfrom\u001b[0m \u001b[0mstable_baselines\u001b[0m\u001b[0;34m.\u001b[0m\u001b[0mdeepq\u001b[0m\u001b[0;34m.\u001b[0m\u001b[0mbuild_graph\u001b[0m \u001b[0;32mimport\u001b[0m \u001b[0mbuild_act\u001b[0m\u001b[0;34m,\u001b[0m \u001b[0mbuild_train\u001b[0m  \u001b[0;31m# noqa\u001b[0m\u001b[0;34m\u001b[0m\u001b[0;34m\u001b[0m\u001b[0m\n\u001b[1;32m      3\u001b[0m \u001b[0;32mfrom\u001b[0m \u001b[0mstable_baselines\u001b[0m\u001b[0;34m.\u001b[0m\u001b[0mdeepq\u001b[0m\u001b[0;34m.\u001b[0m\u001b[0mdqn\u001b[0m \u001b[0;32mimport\u001b[0m \u001b[0mDQN\u001b[0m\u001b[0;34m\u001b[0m\u001b[0;34m\u001b[0m\u001b[0m\n\u001b[1;32m      4\u001b[0m \u001b[0;32mfrom\u001b[0m \u001b[0mstable_baselines\u001b[0m\u001b[0;34m.\u001b[0m\u001b[0mcommon\u001b[0m\u001b[0;34m.\u001b[0m\u001b[0mbuffers\u001b[0m \u001b[0;32mimport\u001b[0m \u001b[0mReplayBuffer\u001b[0m\u001b[0;34m,\u001b[0m \u001b[0mPrioritizedReplayBuffer\u001b[0m  \u001b[0;31m# noqa\u001b[0m\u001b[0;34m\u001b[0m\u001b[0;34m\u001b[0m\u001b[0m\n\u001b[1;32m      5\u001b[0m \u001b[0;34m\u001b[0m\u001b[0m\n",
            "\u001b[0;32m/usr/local/lib/python3.6/dist-packages/stable_baselines/deepq/policies.py\u001b[0m in \u001b[0;36m<module>\u001b[0;34m()\u001b[0m\n\u001b[1;32m      1\u001b[0m \u001b[0;32mimport\u001b[0m \u001b[0mtensorflow\u001b[0m \u001b[0;32mas\u001b[0m \u001b[0mtf\u001b[0m\u001b[0;34m\u001b[0m\u001b[0;34m\u001b[0m\u001b[0m\n\u001b[0;32m----> 2\u001b[0;31m \u001b[0;32mimport\u001b[0m \u001b[0mtensorflow\u001b[0m\u001b[0;34m.\u001b[0m\u001b[0mcontrib\u001b[0m\u001b[0;34m.\u001b[0m\u001b[0mlayers\u001b[0m \u001b[0;32mas\u001b[0m \u001b[0mtf_layers\u001b[0m\u001b[0;34m\u001b[0m\u001b[0;34m\u001b[0m\u001b[0m\n\u001b[0m\u001b[1;32m      3\u001b[0m \u001b[0;32mimport\u001b[0m \u001b[0mnumpy\u001b[0m \u001b[0;32mas\u001b[0m \u001b[0mnp\u001b[0m\u001b[0;34m\u001b[0m\u001b[0;34m\u001b[0m\u001b[0m\n\u001b[1;32m      4\u001b[0m \u001b[0;32mfrom\u001b[0m \u001b[0mgym\u001b[0m\u001b[0;34m.\u001b[0m\u001b[0mspaces\u001b[0m \u001b[0;32mimport\u001b[0m \u001b[0mDiscrete\u001b[0m\u001b[0;34m\u001b[0m\u001b[0;34m\u001b[0m\u001b[0m\n\u001b[1;32m      5\u001b[0m \u001b[0;34m\u001b[0m\u001b[0m\n",
            "\u001b[0;31mModuleNotFoundError\u001b[0m: No module named 'tensorflow.contrib'",
            "",
            "\u001b[0;31m---------------------------------------------------------------------------\u001b[0;32m\nNOTE: If your import is failing due to a missing package, you can\nmanually install dependencies using either !pip or !apt.\n\nTo view examples of installing some common dependencies, click the\n\"Open Examples\" button below.\n\u001b[0;31m---------------------------------------------------------------------------\u001b[0m\n"
          ]
        }
      ]
    },
    {
      "cell_type": "code",
      "metadata": {
        "colab": {
          "base_uri": "https://localhost:8080/",
          "height": 231
        },
        "id": "vm1HuhHA2Kes",
        "outputId": "a36e572c-fdc1-4723-f806-43dbe8d12bf2"
      },
      "source": [
        "import gym\r\n",
        "from stable_baselines.common.policies import MlpPolicy\r\n",
        "from stable_baselines.common.vec_env import DummyVecEnv\r\n",
        "from stable_baselines import PPO\r\n",
        "\r\n",
        "ambiente = gym.make('CartPole-v1')\r\n",
        "\r\n",
        "modelo = PPO('MlpPolicy', ambiente, verbose = 1)\r\n",
        "modelo.learn(total_timesteps = 10000)\r\n",
        "\r\n",
        "obs = ambiente.reset()\r\n",
        "\r\n",
        "for i in range(1000):\r\n",
        "  action, estados = modelo.predict(obs, deterministico = True)\r\n",
        "  obs, reward, done, info = ambiente.step(acao)\r\n",
        "  ambiente.render()\r\n",
        "  \r\n",
        "  if done:\r\n",
        "    obs = ambiente.reset()\r\n",
        "\r\n",
        "ambiente.close()"
      ],
      "execution_count": 48,
      "outputs": [
        {
          "output_type": "error",
          "ename": "NameError",
          "evalue": "ignored",
          "traceback": [
            "\u001b[0;31m---------------------------------------------------------------------------\u001b[0m",
            "\u001b[0;31mNameError\u001b[0m                                 Traceback (most recent call last)",
            "\u001b[0;32m<ipython-input-48-8b4a34a28f99>\u001b[0m in \u001b[0;36m<module>\u001b[0;34m()\u001b[0m\n\u001b[1;32m      1\u001b[0m \u001b[0mambiente\u001b[0m \u001b[0;34m=\u001b[0m \u001b[0mgym\u001b[0m\u001b[0;34m.\u001b[0m\u001b[0mmake\u001b[0m\u001b[0;34m(\u001b[0m\u001b[0;34m'CartPole-v1'\u001b[0m\u001b[0;34m)\u001b[0m\u001b[0;34m\u001b[0m\u001b[0;34m\u001b[0m\u001b[0m\n\u001b[1;32m      2\u001b[0m \u001b[0;34m\u001b[0m\u001b[0m\n\u001b[0;32m----> 3\u001b[0;31m \u001b[0mmodelo\u001b[0m \u001b[0;34m=\u001b[0m \u001b[0mPPO\u001b[0m\u001b[0;34m(\u001b[0m\u001b[0;34m'MlpPolicy'\u001b[0m\u001b[0;34m,\u001b[0m \u001b[0mambiente\u001b[0m\u001b[0;34m,\u001b[0m \u001b[0mverbose\u001b[0m \u001b[0;34m=\u001b[0m \u001b[0;36m1\u001b[0m\u001b[0;34m)\u001b[0m\u001b[0;34m\u001b[0m\u001b[0;34m\u001b[0m\u001b[0m\n\u001b[0m\u001b[1;32m      4\u001b[0m \u001b[0mmodelo\u001b[0m\u001b[0;34m.\u001b[0m\u001b[0mlearn\u001b[0m\u001b[0;34m(\u001b[0m\u001b[0mtotal_timesteps\u001b[0m \u001b[0;34m=\u001b[0m \u001b[0;36m10000\u001b[0m\u001b[0;34m)\u001b[0m\u001b[0;34m\u001b[0m\u001b[0;34m\u001b[0m\u001b[0m\n\u001b[1;32m      5\u001b[0m \u001b[0;34m\u001b[0m\u001b[0m\n",
            "\u001b[0;31mNameError\u001b[0m: name 'PPO' is not defined"
          ]
        }
      ]
    },
    {
      "cell_type": "code",
      "metadata": {
        "id": "J80Xmzq96-r5"
      },
      "source": [
        "from stable_baselines import A2C\r\n",
        "\r\n",
        "model = A2C('MlpPolicy', 'CartPole-v1', verbose=1, tensorboard_log=\"/tmp/a2c_cartpole_tensorboard/\")\r\n",
        "model.learn(total_timesteps=50000)"
      ],
      "execution_count": null,
      "outputs": []
    }
  ]
}